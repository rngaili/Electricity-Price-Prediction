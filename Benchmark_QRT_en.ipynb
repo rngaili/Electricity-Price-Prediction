{
 "cells": [
  {
   "cell_type": "markdown",
   "metadata": {},
   "source": [
    "# QRT ENS Data Challenge 2023 - Benchmark (english)\n",
    "\n",
    "This notebook details the benchmark construction for the challenge - it may also help participants to start the competition.\n",
    "\n",
    "## Libraries"
   ]
  },
  {
   "cell_type": "code",
   "execution_count": 1,
   "metadata": {},
   "outputs": [],
   "source": [
    "import numpy as np\n",
    "import pandas as pd\n",
    "from scipy.stats import spearmanr\n",
    "from sklearn.linear_model import LinearRegression\n",
    "import matplotlib.pyplot as plt\n",
    "import seaborn as sns"
   ]
  },
  {
   "cell_type": "markdown",
   "metadata": {},
   "source": [
    "## Loading data\n",
    "\n",
    "- `X_train` and `X_test` both have $35$ columns that represent the same explanatory variables but over different time periods. \n",
    "\n",
    "- `X_train` and `Y_train` share the same column `ID` - each row corresponds to a unique ID associated wwith a day and a country. \n",
    "\n",
    "- The target of this challenge `TARGET` in `Y_train` corresponds to the price change for daily futures contracts of 24H electricity baseload. \n",
    "\n",
    "- **You will notice some columns have missing values**.\n"
   ]
  },
  {
   "cell_type": "code",
   "execution_count": 10,
   "metadata": {},
   "outputs": [],
   "source": [
    "# After downloading the X_train/X_test/Y_train .csv files in your working directory:\n",
    "\n",
    "X_train = pd.read_csv('X_train.csv')\n",
    "Y_train = pd.read_csv('Y_train.csv')\n",
    "X_test = pd.read_csv('X_test.csv')"
   ]
  },
  {
   "cell_type": "code",
   "execution_count": 11,
   "metadata": {},
   "outputs": [
    {
     "data": {
      "text/html": [
       "<div>\n",
       "<style scoped>\n",
       "    .dataframe tbody tr th:only-of-type {\n",
       "        vertical-align: middle;\n",
       "    }\n",
       "\n",
       "    .dataframe tbody tr th {\n",
       "        vertical-align: top;\n",
       "    }\n",
       "\n",
       "    .dataframe thead th {\n",
       "        text-align: right;\n",
       "    }\n",
       "</style>\n",
       "<table border=\"1\" class=\"dataframe\">\n",
       "  <thead>\n",
       "    <tr style=\"text-align: right;\">\n",
       "      <th></th>\n",
       "      <th>ID</th>\n",
       "      <th>DAY_ID</th>\n",
       "      <th>COUNTRY</th>\n",
       "      <th>DE_CONSUMPTION</th>\n",
       "      <th>FR_CONSUMPTION</th>\n",
       "      <th>DE_FR_EXCHANGE</th>\n",
       "      <th>FR_DE_EXCHANGE</th>\n",
       "      <th>DE_NET_EXPORT</th>\n",
       "      <th>FR_NET_EXPORT</th>\n",
       "      <th>DE_NET_IMPORT</th>\n",
       "      <th>...</th>\n",
       "      <th>FR_RESIDUAL_LOAD</th>\n",
       "      <th>DE_RAIN</th>\n",
       "      <th>FR_RAIN</th>\n",
       "      <th>DE_WIND</th>\n",
       "      <th>FR_WIND</th>\n",
       "      <th>DE_TEMP</th>\n",
       "      <th>FR_TEMP</th>\n",
       "      <th>GAS_RET</th>\n",
       "      <th>COAL_RET</th>\n",
       "      <th>CARBON_RET</th>\n",
       "    </tr>\n",
       "  </thead>\n",
       "  <tbody>\n",
       "    <tr>\n",
       "      <th>0</th>\n",
       "      <td>1054</td>\n",
       "      <td>206</td>\n",
       "      <td>FR</td>\n",
       "      <td>0.210099</td>\n",
       "      <td>-0.427458</td>\n",
       "      <td>-0.606523</td>\n",
       "      <td>0.606523</td>\n",
       "      <td>NaN</td>\n",
       "      <td>0.692860</td>\n",
       "      <td>NaN</td>\n",
       "      <td>...</td>\n",
       "      <td>-0.444661</td>\n",
       "      <td>-0.172680</td>\n",
       "      <td>-0.556356</td>\n",
       "      <td>-0.790823</td>\n",
       "      <td>-0.283160</td>\n",
       "      <td>-1.069070</td>\n",
       "      <td>-0.063404</td>\n",
       "      <td>0.339041</td>\n",
       "      <td>0.124552</td>\n",
       "      <td>-0.002445</td>\n",
       "    </tr>\n",
       "    <tr>\n",
       "      <th>1</th>\n",
       "      <td>2049</td>\n",
       "      <td>501</td>\n",
       "      <td>FR</td>\n",
       "      <td>-0.022399</td>\n",
       "      <td>-1.003452</td>\n",
       "      <td>-0.022063</td>\n",
       "      <td>0.022063</td>\n",
       "      <td>-0.573520</td>\n",
       "      <td>-1.130838</td>\n",
       "      <td>0.573520</td>\n",
       "      <td>...</td>\n",
       "      <td>-1.183194</td>\n",
       "      <td>-1.240300</td>\n",
       "      <td>-0.770457</td>\n",
       "      <td>1.522331</td>\n",
       "      <td>0.828412</td>\n",
       "      <td>0.437419</td>\n",
       "      <td>1.831241</td>\n",
       "      <td>-0.659091</td>\n",
       "      <td>0.047114</td>\n",
       "      <td>-0.490365</td>\n",
       "    </tr>\n",
       "    <tr>\n",
       "      <th>2</th>\n",
       "      <td>1924</td>\n",
       "      <td>687</td>\n",
       "      <td>FR</td>\n",
       "      <td>1.395035</td>\n",
       "      <td>1.978665</td>\n",
       "      <td>1.021305</td>\n",
       "      <td>-1.021305</td>\n",
       "      <td>-0.622021</td>\n",
       "      <td>-1.682587</td>\n",
       "      <td>0.622021</td>\n",
       "      <td>...</td>\n",
       "      <td>1.947273</td>\n",
       "      <td>-0.480700</td>\n",
       "      <td>-0.313338</td>\n",
       "      <td>0.431134</td>\n",
       "      <td>0.487608</td>\n",
       "      <td>0.684884</td>\n",
       "      <td>0.114836</td>\n",
       "      <td>0.535974</td>\n",
       "      <td>0.743338</td>\n",
       "      <td>0.204952</td>\n",
       "    </tr>\n",
       "    <tr>\n",
       "      <th>3</th>\n",
       "      <td>297</td>\n",
       "      <td>720</td>\n",
       "      <td>DE</td>\n",
       "      <td>-0.983324</td>\n",
       "      <td>-0.849198</td>\n",
       "      <td>-0.839586</td>\n",
       "      <td>0.839586</td>\n",
       "      <td>-0.270870</td>\n",
       "      <td>0.563230</td>\n",
       "      <td>0.270870</td>\n",
       "      <td>...</td>\n",
       "      <td>-0.976974</td>\n",
       "      <td>-1.114838</td>\n",
       "      <td>-0.507570</td>\n",
       "      <td>-0.499409</td>\n",
       "      <td>-0.236249</td>\n",
       "      <td>0.350938</td>\n",
       "      <td>-0.417514</td>\n",
       "      <td>0.911652</td>\n",
       "      <td>-0.296168</td>\n",
       "      <td>1.073948</td>\n",
       "    </tr>\n",
       "    <tr>\n",
       "      <th>4</th>\n",
       "      <td>1101</td>\n",
       "      <td>818</td>\n",
       "      <td>FR</td>\n",
       "      <td>0.143807</td>\n",
       "      <td>-0.617038</td>\n",
       "      <td>-0.924990</td>\n",
       "      <td>0.924990</td>\n",
       "      <td>NaN</td>\n",
       "      <td>0.990324</td>\n",
       "      <td>NaN</td>\n",
       "      <td>...</td>\n",
       "      <td>-0.526267</td>\n",
       "      <td>-0.541465</td>\n",
       "      <td>-0.424550</td>\n",
       "      <td>-1.088158</td>\n",
       "      <td>-1.011560</td>\n",
       "      <td>0.614338</td>\n",
       "      <td>0.729495</td>\n",
       "      <td>0.245109</td>\n",
       "      <td>1.526606</td>\n",
       "      <td>2.614378</td>\n",
       "    </tr>\n",
       "  </tbody>\n",
       "</table>\n",
       "<p>5 rows × 35 columns</p>\n",
       "</div>"
      ],
      "text/plain": [
       "     ID  DAY_ID COUNTRY  DE_CONSUMPTION  FR_CONSUMPTION  DE_FR_EXCHANGE  \\\n",
       "0  1054     206      FR        0.210099       -0.427458       -0.606523   \n",
       "1  2049     501      FR       -0.022399       -1.003452       -0.022063   \n",
       "2  1924     687      FR        1.395035        1.978665        1.021305   \n",
       "3   297     720      DE       -0.983324       -0.849198       -0.839586   \n",
       "4  1101     818      FR        0.143807       -0.617038       -0.924990   \n",
       "\n",
       "   FR_DE_EXCHANGE  DE_NET_EXPORT  FR_NET_EXPORT  DE_NET_IMPORT  ...  \\\n",
       "0        0.606523            NaN       0.692860            NaN  ...   \n",
       "1        0.022063      -0.573520      -1.130838       0.573520  ...   \n",
       "2       -1.021305      -0.622021      -1.682587       0.622021  ...   \n",
       "3        0.839586      -0.270870       0.563230       0.270870  ...   \n",
       "4        0.924990            NaN       0.990324            NaN  ...   \n",
       "\n",
       "   FR_RESIDUAL_LOAD   DE_RAIN   FR_RAIN   DE_WIND   FR_WIND   DE_TEMP  \\\n",
       "0         -0.444661 -0.172680 -0.556356 -0.790823 -0.283160 -1.069070   \n",
       "1         -1.183194 -1.240300 -0.770457  1.522331  0.828412  0.437419   \n",
       "2          1.947273 -0.480700 -0.313338  0.431134  0.487608  0.684884   \n",
       "3         -0.976974 -1.114838 -0.507570 -0.499409 -0.236249  0.350938   \n",
       "4         -0.526267 -0.541465 -0.424550 -1.088158 -1.011560  0.614338   \n",
       "\n",
       "    FR_TEMP   GAS_RET  COAL_RET  CARBON_RET  \n",
       "0 -0.063404  0.339041  0.124552   -0.002445  \n",
       "1  1.831241 -0.659091  0.047114   -0.490365  \n",
       "2  0.114836  0.535974  0.743338    0.204952  \n",
       "3 -0.417514  0.911652 -0.296168    1.073948  \n",
       "4  0.729495  0.245109  1.526606    2.614378  \n",
       "\n",
       "[5 rows x 35 columns]"
      ]
     },
     "execution_count": 11,
     "metadata": {},
     "output_type": "execute_result"
    }
   ],
   "source": [
    "X_train.head()"
   ]
  },
  {
   "cell_type": "code",
   "execution_count": 12,
   "metadata": {},
   "outputs": [
    {
     "data": {
      "text/html": [
       "<div>\n",
       "<style scoped>\n",
       "    .dataframe tbody tr th:only-of-type {\n",
       "        vertical-align: middle;\n",
       "    }\n",
       "\n",
       "    .dataframe tbody tr th {\n",
       "        vertical-align: top;\n",
       "    }\n",
       "\n",
       "    .dataframe thead th {\n",
       "        text-align: right;\n",
       "    }\n",
       "</style>\n",
       "<table border=\"1\" class=\"dataframe\">\n",
       "  <thead>\n",
       "    <tr style=\"text-align: right;\">\n",
       "      <th></th>\n",
       "      <th>ID</th>\n",
       "      <th>TARGET</th>\n",
       "    </tr>\n",
       "  </thead>\n",
       "  <tbody>\n",
       "    <tr>\n",
       "      <th>0</th>\n",
       "      <td>1054</td>\n",
       "      <td>0.028313</td>\n",
       "    </tr>\n",
       "    <tr>\n",
       "      <th>1</th>\n",
       "      <td>2049</td>\n",
       "      <td>-0.112516</td>\n",
       "    </tr>\n",
       "    <tr>\n",
       "      <th>2</th>\n",
       "      <td>1924</td>\n",
       "      <td>-0.180840</td>\n",
       "    </tr>\n",
       "    <tr>\n",
       "      <th>3</th>\n",
       "      <td>297</td>\n",
       "      <td>-0.260356</td>\n",
       "    </tr>\n",
       "    <tr>\n",
       "      <th>4</th>\n",
       "      <td>1101</td>\n",
       "      <td>-0.071733</td>\n",
       "    </tr>\n",
       "  </tbody>\n",
       "</table>\n",
       "</div>"
      ],
      "text/plain": [
       "     ID    TARGET\n",
       "0  1054  0.028313\n",
       "1  2049 -0.112516\n",
       "2  1924 -0.180840\n",
       "3   297 -0.260356\n",
       "4  1101 -0.071733"
      ]
     },
     "execution_count": 12,
     "metadata": {},
     "output_type": "execute_result"
    }
   ],
   "source": [
    "Y_train.head()"
   ]
  },
  {
   "cell_type": "markdown",
   "metadata": {},
   "source": [
    "## Exploratory Data Analysis and Pre-Processing"
   ]
  },
  {
   "cell_type": "markdown",
   "metadata": {},
   "source": [
    "Let's see how big our training and test datasets are and the types of values they contain."
   ]
  },
  {
   "cell_type": "code",
   "execution_count": null,
   "metadata": {},
   "outputs": [],
   "source": [
    "print('X_train shape: ', X_train.shape)\n",
    "print('X_test shape: ', X_test.shape)"
   ]
  },
  {
   "cell_type": "code",
   "execution_count": null,
   "metadata": {},
   "outputs": [],
   "source": [
    "X_train.dtypes.value_counts()"
   ]
  },
  {
   "cell_type": "markdown",
   "metadata": {},
   "source": [
    "Let's look at the distribution of the variables."
   ]
  },
  {
   "cell_type": "code",
   "execution_count": null,
   "metadata": {},
   "outputs": [],
   "source": [
    "### add code here - fix, make smalller charts\n",
    "for col in X_train.select_dtypes('float'):\n",
    "  # print(col)\n",
    "  plt.figure()\n",
    "  sns.distplot(X_train[col])"
   ]
  },
  {
   "cell_type": "markdown",
   "metadata": {},
   "source": [
    "### Correlation Analysis"
   ]
  },
  {
   "cell_type": "code",
   "execution_count": null,
   "metadata": {},
   "outputs": [],
   "source": [
    "numerical_columns = X_train.select_dtypes(include=['float64', 'int64'])\n",
    "correlation_matrix = numerical_columns.corr()\n",
    "plt.figure(figsize=(10, 8))\n",
    "sns.heatmap(correlation_matrix, cmap='coolwarm', fmt=\".2f\")\n",
    "plt.title('Correlation Matrix')\n",
    "plt.show()"
   ]
  },
  {
   "cell_type": "markdown",
   "metadata": {},
   "source": [
    "We consider +/-0.8 to be a high correlation. We filter for these correlations below to see which columns are highly correlated."
   ]
  },
  {
   "cell_type": "code",
   "execution_count": null,
   "metadata": {},
   "outputs": [],
   "source": [
    "# Filter correlations above 0.8 \n",
    "high_correlations = correlation_matrix[correlation_matrix.abs() > 0.8]\n",
    "\n",
    "plt.figure(figsize=(10, 8))\n",
    "annot_kws = {\"ha\": 'center', \"va\": 'center', \"fontsize\": 8, \"color\": 'black'}\n",
    "sns.heatmap(high_correlations, annot=True, cmap='coolwarm', fmt=\".2f\", annot_kws=annot_kws)\n",
    "plt.title('Correlations above +/-0.8')\n",
    "plt.show()"
   ]
  },
  {
   "cell_type": "markdown",
   "metadata": {},
   "source": [
    "From the correlation plot, we observe the following correlations:\n",
    "- FR_CONSUMPTION and FR_RESIDUAL_LOAD\n",
    "- FR_CONSUMPTION and DE_CONSUMPTION \n",
    "- DE_FR_EXCHANGE and FR_DE_EXCHANGE\n",
    "- DE_NET_IMPORT and DE_NET_EXPORT\n",
    "- FR_NET_IMPORT and FR_NET_EXPORT\n",
    "- DE_SOLAR and FR_SOLAR\n",
    "- DE_WIND and FR_WIND"
   ]
  },
  {
   "cell_type": "markdown",
   "metadata": {},
   "source": [
    "It is likely that we will need to remove some of these columns."
   ]
  },
  {
   "cell_type": "code",
   "execution_count": null,
   "metadata": {},
   "outputs": [],
   "source": [
    "X_train_no_corr = X_train.drop(['COUNTRY', 'FR_CONSUMPTION', 'DE_FR_EXCHANGE', 'DE_NET_IMPORT', 'FR_NET_IMPORT', 'FR_SOLAR', 'DE_WIND'], axis=1)\n",
    "correlation_matrix = X_train_no_corr.corr()\n",
    "plt.figure(figsize=(10, 8))\n",
    "sns.heatmap(correlation_matrix, cmap='coolwarm', fmt=\".2f\")\n",
    "plt.title('Correlation Matrix')\n",
    "plt.show()"
   ]
  },
  {
   "cell_type": "markdown",
   "metadata": {},
   "source": [
    "There are no more correlations above 0.8 as we can see below."
   ]
  },
  {
   "cell_type": "code",
   "execution_count": null,
   "metadata": {},
   "outputs": [],
   "source": [
    "# Filter correlations above 0.8\n",
    "high_correlations = correlation_matrix[correlation_matrix.abs() > 0.8]\n",
    "\n",
    "plt.figure(figsize=(10, 8))\n",
    "annot_kws = {\"ha\": 'center', \"va\": 'center', \"fontsize\": 8, \"color\": 'black'}\n",
    "sns.heatmap(high_correlations, annot=True, cmap='coolwarm', fmt=\".2f\", annot_kws=annot_kws)\n",
    "plt.title('Correlations above +/-0.8')\n",
    "plt.show()"
   ]
  },
  {
   "cell_type": "markdown",
   "metadata": {},
   "source": [
    "### Missing values"
   ]
  },
  {
   "cell_type": "code",
   "execution_count": null,
   "metadata": {},
   "outputs": [],
   "source": [
    "#Count the missing value\n",
    "X_train.isnull().sum()\n",
    "#show only the one that is not 0\n",
    "X_train.isnull().sum()[X_train.isnull().sum() > 0]"
   ]
  },
  {
   "cell_type": "markdown",
   "metadata": {},
   "source": [
    "- As we can see, there are some numbers are the same amount of missing values\n",
    "    - DE_FR_EXCHANGE = FR_DE_EXCHANGE\n",
    "    - DE_NET_EXPORT = - DE_NET_IMPORT\n",
    "    - FR_NET_EXPORT = - FR_NET_IMPORT"
   ]
  },
  {
   "cell_type": "markdown",
   "metadata": {},
   "source": [
    "#### We try 3 different methods for missing values and see how this will impact model results."
   ]
  },
  {
   "cell_type": "markdown",
   "metadata": {},
   "source": [
    "1. We will remove the rows with missing values."
   ]
  },
  {
   "cell_type": "code",
   "execution_count": null,
   "metadata": {},
   "outputs": [],
   "source": [
    "Xtrain_copy = X_train.copy()\n",
    "X_train_dropnull = Xtrain_copy.dropna()\n",
    "print(\"The new size\", X_train_dropnull.shape)"
   ]
  },
  {
   "cell_type": "markdown",
   "metadata": {},
   "source": [
    "2. Replacing the missing value to 0"
   ]
  },
  {
   "cell_type": "code",
   "execution_count": null,
   "metadata": {},
   "outputs": [],
   "source": [
    "#fill the missing value with 0\n",
    "X_train_fillna = Xtrain_copy.fillna(0)"
   ]
  },
  {
   "cell_type": "markdown",
   "metadata": {},
   "source": [
    "3. Change the null value to moving average for different country"
   ]
  },
  {
   "cell_type": "code",
   "execution_count": null,
   "metadata": {},
   "outputs": [],
   "source": [
    "#replace the missing value with running average according to the DAY_ID for fr_df and de_df\n",
    "fr_df = X_train[X_train['COUNTRY'] == 'FR']\n",
    "de_df = X_train[X_train['COUNTRY'] == 'DE']\n",
    "\n",
    "fr_df = fr_df.sort_values(by='DAY_ID')\n",
    "de_df = de_df.sort_values(by='DAY_ID')\n",
    "\n",
    "def fill_with_running_avg(df):\n",
    "    df.iloc[0] = df.iloc[0].fillna(0)\n",
    "    \n",
    "    for column in df.columns[3:]:\n",
    "        if df[column].dtype == 'float64' or df[column].dtype == 'int64':\n",
    "            # Calculate the running average excluding the first row\n",
    "            running_average = df[column].expanding(min_periods=2).mean()\n",
    "            # Fill missing values with the running average\n",
    "            df[column] = df[column].fillna(running_average)\n",
    "    return df\n",
    "\n",
    "france_df_filled = fill_with_running_avg(fr_df)\n",
    "germany_df_filled = fill_with_running_avg(de_df)\n",
    "    \n",
    "#check the missing value\n",
    "print('FR missing values:', france_df_filled.isnull().sum().sum())\n",
    "print('DE missing values:', germany_df_filled.isnull().sum().sum())"
   ]
  },
  {
   "cell_type": "code",
   "execution_count": null,
   "metadata": {},
   "outputs": [],
   "source": [
    "#merge fr_df and de_df together and creat an binomial for the country for FR =1 and DE = 0 \n",
    "X_train_merge= pd.concat([fr_df, de_df])\n",
    "X_train_merge['COUNTRY_ID'] = X_train_merge['COUNTRY'].apply(lambda x: 0 if x == 'DE' else 1)\n",
    "print(\"The new size of X_train_merge: \", X_train_merge.shape)\n",
    "\n",
    "X_train_merge.head()"
   ]
  },
  {
   "cell_type": "markdown",
   "metadata": {},
   "source": [
    "## Repeating the preprocessing for X_test"
   ]
  },
  {
   "cell_type": "code",
   "execution_count": null,
   "metadata": {},
   "outputs": [],
   "source": [
    "X_test_copy = X_test.copy()\n",
    "\n",
    "# 1. Dropping the null Values\n",
    "X_test_dropnull = X_test_copy.dropna()\n",
    "\n",
    "# 1. Replacing the missing value to 0\n",
    "X_test_fillna = X_test_copy.fillna(0)\n",
    "\n",
    "# 3. Change the null value to moving average for different country\n",
    "fr_test_df = X_test[X_test['COUNTRY'] == 'FR']\n",
    "de_test_df = X_test[X_test['COUNTRY'] == 'DE']\n",
    "\n",
    "fr_test_df = fr_test_df.sort_values(by='DAY_ID')\n",
    "de_test_df = de_test_df.sort_values(by='DAY_ID')\n",
    "\n",
    "france_test_df_filled = fill_with_running_avg(fr_test_df)\n",
    "germany_test_df_filled = fill_with_running_avg(de_test_df)\n",
    "\n",
    "# Merging the two data frames\n",
    "X_test_merge= pd.concat([fr_test_df, de_test_df])\n",
    "X_test_merge['COUNTRY_ID'] = X_test_merge['COUNTRY'].apply(lambda x: 0 if x == 'DE' else 1)\n",
    "print(\"The new size of X_test: \", X_test.shape)\n",
    "X_test_merge.head()\n"
   ]
  },
  {
   "cell_type": "markdown",
   "metadata": {},
   "source": [
    "## Model and train score\n",
    "\n",
    "The benchark for this challenge consists in a simple linear regression, after a light cleaning of the data: The missing (NaN) values are simply filled with 0's and the `COUNTRY` column is dropped - namely we used the same model for France and Germany. "
   ]
  },
  {
   "cell_type": "markdown",
   "metadata": {},
   "source": [
    "### Baseline: Linear Regression - gabri"
   ]
  },
  {
   "cell_type": "code",
   "execution_count": 16,
   "metadata": {},
   "outputs": [
    {
     "name": "stdout",
     "output_type": "stream",
     "text": [
      "Spearman correlation for the train set: 27.9%\n"
     ]
    }
   ],
   "source": [
    "lr = LinearRegression()\n",
    "\n",
    "X_train_clean = X_train.drop(['COUNTRY'], axis=1).fillna(0)\n",
    "Y_train_clean = Y_train['TARGET']\n",
    "\n",
    "lr.fit(X_train_clean, Y_train_clean)\n",
    "\n",
    "output_train = lr.predict(X_train_clean)\n",
    "\n",
    "def metric_train(output):\n",
    "\n",
    "    return  spearmanr(output, Y_train_clean).correlation\n",
    "\n",
    "print('Spearman correlation for the train set: {:.1f}%'.format(100 * metric_train(output_train) ))"
   ]
  },
  {
   "cell_type": "markdown",
   "metadata": {},
   "source": [
    "The Spearman correlation obtained with our model on the train data set is about 27.9%.\n",
    "\n",
    "NB: Electricity price variations can be quite volatile and this is why we have chosen the Spearman rank correlation as a robust metric for the challenge, instead of the more standard Pearson correlation."
   ]
  },
  {
   "cell_type": "markdown",
   "metadata": {},
   "source": [
    "### Model 1: Decision Trees - rhianne"
   ]
  },
  {
   "cell_type": "markdown",
   "metadata": {},
   "source": [
    "### Model 2: Bagging - alix"
   ]
  },
  {
   "cell_type": "markdown",
   "metadata": {},
   "source": [
    "### Model 3: Random Forest - rhianne"
   ]
  },
  {
   "cell_type": "markdown",
   "metadata": {},
   "source": [
    "### Model 4: Boosting - vivian"
   ]
  },
  {
   "cell_type": "markdown",
   "metadata": {},
   "source": [
    "### Model 5: Gradient Boosted Trees - gabri"
   ]
  },
  {
   "cell_type": "markdown",
   "metadata": {},
   "source": [
    "### Model 6: AdaBoost - alix"
   ]
  },
  {
   "cell_type": "markdown",
   "metadata": {},
   "source": [
    "### Model 7: XGBoost - vivian"
   ]
  },
  {
   "cell_type": "markdown",
   "metadata": {},
   "source": [
    "## Generate the benchmark output\n",
    "\n",
    "Next, we process the test set the same way as we did on the train set and predict using our linear model, while saving the predictions to a csv file satisfying the challenge output contraints.\n"
   ]
  },
  {
   "cell_type": "code",
   "execution_count": 17,
   "metadata": {},
   "outputs": [
    {
     "data": {
      "text/html": [
       "<div>\n",
       "<style scoped>\n",
       "    .dataframe tbody tr th:only-of-type {\n",
       "        vertical-align: middle;\n",
       "    }\n",
       "\n",
       "    .dataframe tbody tr th {\n",
       "        vertical-align: top;\n",
       "    }\n",
       "\n",
       "    .dataframe thead th {\n",
       "        text-align: right;\n",
       "    }\n",
       "</style>\n",
       "<table border=\"1\" class=\"dataframe\">\n",
       "  <thead>\n",
       "    <tr style=\"text-align: right;\">\n",
       "      <th></th>\n",
       "      <th>ID</th>\n",
       "      <th>DAY_ID</th>\n",
       "      <th>COUNTRY</th>\n",
       "      <th>DE_CONSUMPTION</th>\n",
       "      <th>FR_CONSUMPTION</th>\n",
       "      <th>DE_FR_EXCHANGE</th>\n",
       "      <th>FR_DE_EXCHANGE</th>\n",
       "      <th>DE_NET_EXPORT</th>\n",
       "      <th>FR_NET_EXPORT</th>\n",
       "      <th>DE_NET_IMPORT</th>\n",
       "      <th>...</th>\n",
       "      <th>FR_RESIDUAL_LOAD</th>\n",
       "      <th>DE_RAIN</th>\n",
       "      <th>FR_RAIN</th>\n",
       "      <th>DE_WIND</th>\n",
       "      <th>FR_WIND</th>\n",
       "      <th>DE_TEMP</th>\n",
       "      <th>FR_TEMP</th>\n",
       "      <th>GAS_RET</th>\n",
       "      <th>COAL_RET</th>\n",
       "      <th>CARBON_RET</th>\n",
       "    </tr>\n",
       "  </thead>\n",
       "  <tbody>\n",
       "    <tr>\n",
       "      <th>0</th>\n",
       "      <td>2136</td>\n",
       "      <td>524</td>\n",
       "      <td>FR</td>\n",
       "      <td>0.334263</td>\n",
       "      <td>-0.281509</td>\n",
       "      <td>1.042173</td>\n",
       "      <td>-1.042173</td>\n",
       "      <td>0.716838</td>\n",
       "      <td>-1.282216</td>\n",
       "      <td>-0.716838</td>\n",
       "      <td>...</td>\n",
       "      <td>-0.340008</td>\n",
       "      <td>-0.098752</td>\n",
       "      <td>-0.170879</td>\n",
       "      <td>1.020837</td>\n",
       "      <td>1.100871</td>\n",
       "      <td>0.055794</td>\n",
       "      <td>0.286185</td>\n",
       "      <td>1.485898</td>\n",
       "      <td>-0.267464</td>\n",
       "      <td>1.951327</td>\n",
       "    </tr>\n",
       "    <tr>\n",
       "      <th>1</th>\n",
       "      <td>900</td>\n",
       "      <td>728</td>\n",
       "      <td>DE</td>\n",
       "      <td>0.171956</td>\n",
       "      <td>-0.879758</td>\n",
       "      <td>0.912230</td>\n",
       "      <td>-0.912230</td>\n",
       "      <td>0.315475</td>\n",
       "      <td>-1.506543</td>\n",
       "      <td>-0.315475</td>\n",
       "      <td>...</td>\n",
       "      <td>-0.987289</td>\n",
       "      <td>0.789124</td>\n",
       "      <td>1.422063</td>\n",
       "      <td>0.474978</td>\n",
       "      <td>0.827341</td>\n",
       "      <td>1.544394</td>\n",
       "      <td>1.559351</td>\n",
       "      <td>-0.427837</td>\n",
       "      <td>-0.264420</td>\n",
       "      <td>-1.473669</td>\n",
       "    </tr>\n",
       "    <tr>\n",
       "      <th>2</th>\n",
       "      <td>375</td>\n",
       "      <td>84</td>\n",
       "      <td>DE</td>\n",
       "      <td>0.195331</td>\n",
       "      <td>-0.427774</td>\n",
       "      <td>-0.535792</td>\n",
       "      <td>0.535792</td>\n",
       "      <td>-0.927339</td>\n",
       "      <td>-0.304559</td>\n",
       "      <td>0.927339</td>\n",
       "      <td>...</td>\n",
       "      <td>-0.416412</td>\n",
       "      <td>-0.539948</td>\n",
       "      <td>-0.430405</td>\n",
       "      <td>-0.967479</td>\n",
       "      <td>-0.655789</td>\n",
       "      <td>0.160769</td>\n",
       "      <td>-0.240024</td>\n",
       "      <td>0.438932</td>\n",
       "      <td>0.163146</td>\n",
       "      <td>-0.454476</td>\n",
       "    </tr>\n",
       "    <tr>\n",
       "      <th>3</th>\n",
       "      <td>43</td>\n",
       "      <td>352</td>\n",
       "      <td>DE</td>\n",
       "      <td>0.393072</td>\n",
       "      <td>-0.507126</td>\n",
       "      <td>-1.378073</td>\n",
       "      <td>1.378073</td>\n",
       "      <td>-1.664931</td>\n",
       "      <td>1.349263</td>\n",
       "      <td>1.664931</td>\n",
       "      <td>...</td>\n",
       "      <td>-0.505793</td>\n",
       "      <td>5.623228</td>\n",
       "      <td>-2.046479</td>\n",
       "      <td>-0.537130</td>\n",
       "      <td>-0.781634</td>\n",
       "      <td>0.490128</td>\n",
       "      <td>-1.689460</td>\n",
       "      <td>-1.143164</td>\n",
       "      <td>-0.228964</td>\n",
       "      <td>-0.181086</td>\n",
       "    </tr>\n",
       "    <tr>\n",
       "      <th>4</th>\n",
       "      <td>504</td>\n",
       "      <td>24</td>\n",
       "      <td>DE</td>\n",
       "      <td>0.143362</td>\n",
       "      <td>-0.524899</td>\n",
       "      <td>-1.030414</td>\n",
       "      <td>1.030414</td>\n",
       "      <td>-1.005184</td>\n",
       "      <td>0.832404</td>\n",
       "      <td>1.005184</td>\n",
       "      <td>...</td>\n",
       "      <td>-0.635998</td>\n",
       "      <td>NaN</td>\n",
       "      <td>NaN</td>\n",
       "      <td>NaN</td>\n",
       "      <td>NaN</td>\n",
       "      <td>NaN</td>\n",
       "      <td>NaN</td>\n",
       "      <td>0.232096</td>\n",
       "      <td>-0.078845</td>\n",
       "      <td>0.190155</td>\n",
       "    </tr>\n",
       "  </tbody>\n",
       "</table>\n",
       "<p>5 rows × 35 columns</p>\n",
       "</div>"
      ],
      "text/plain": [
       "     ID  DAY_ID COUNTRY  DE_CONSUMPTION  FR_CONSUMPTION  DE_FR_EXCHANGE  \\\n",
       "0  2136     524      FR        0.334263       -0.281509        1.042173   \n",
       "1   900     728      DE        0.171956       -0.879758        0.912230   \n",
       "2   375      84      DE        0.195331       -0.427774       -0.535792   \n",
       "3    43     352      DE        0.393072       -0.507126       -1.378073   \n",
       "4   504      24      DE        0.143362       -0.524899       -1.030414   \n",
       "\n",
       "   FR_DE_EXCHANGE  DE_NET_EXPORT  FR_NET_EXPORT  DE_NET_IMPORT  ...  \\\n",
       "0       -1.042173       0.716838      -1.282216      -0.716838  ...   \n",
       "1       -0.912230       0.315475      -1.506543      -0.315475  ...   \n",
       "2        0.535792      -0.927339      -0.304559       0.927339  ...   \n",
       "3        1.378073      -1.664931       1.349263       1.664931  ...   \n",
       "4        1.030414      -1.005184       0.832404       1.005184  ...   \n",
       "\n",
       "   FR_RESIDUAL_LOAD   DE_RAIN   FR_RAIN   DE_WIND   FR_WIND   DE_TEMP  \\\n",
       "0         -0.340008 -0.098752 -0.170879  1.020837  1.100871  0.055794   \n",
       "1         -0.987289  0.789124  1.422063  0.474978  0.827341  1.544394   \n",
       "2         -0.416412 -0.539948 -0.430405 -0.967479 -0.655789  0.160769   \n",
       "3         -0.505793  5.623228 -2.046479 -0.537130 -0.781634  0.490128   \n",
       "4         -0.635998       NaN       NaN       NaN       NaN       NaN   \n",
       "\n",
       "    FR_TEMP   GAS_RET  COAL_RET  CARBON_RET  \n",
       "0  0.286185  1.485898 -0.267464    1.951327  \n",
       "1  1.559351 -0.427837 -0.264420   -1.473669  \n",
       "2 -0.240024  0.438932  0.163146   -0.454476  \n",
       "3 -1.689460 -1.143164 -0.228964   -0.181086  \n",
       "4       NaN  0.232096 -0.078845    0.190155  \n",
       "\n",
       "[5 rows x 35 columns]"
      ]
     },
     "execution_count": 17,
     "metadata": {},
     "output_type": "execute_result"
    }
   ],
   "source": [
    "X_test.head()"
   ]
  },
  {
   "cell_type": "code",
   "execution_count": 18,
   "metadata": {},
   "outputs": [],
   "source": [
    "X_test_clean = X_test.drop(['COUNTRY'], axis=1).fillna(0)\n",
    "\n",
    "Y_test_submission = X_test[['ID']].copy()\n",
    "Y_test_submission['TARGET'] = lr.predict(X_test_clean)\n",
    "\n",
    "Y_test_submission.to_csv('benchmark_qrt.csv', index=False)\n"
   ]
  },
  {
   "cell_type": "markdown",
   "metadata": {},
   "source": [
    "After submitting this benchmark_qrt.csv file at https://challengedata.ens.fr, we obtain a public score of around 15.9 % - this is the score to beat!\n"
   ]
  },
  {
   "cell_type": "markdown",
   "metadata": {},
   "source": [
    "## Tips and ideas for improvements \n",
    "\n",
    "- Thinking about the fundamental price drivers of electricity in each country may be useful. \n",
    "\n",
    "- The dataset is small, so you will need to be careful not to overfit your models. It will be useful to use good crossvalidation practices. \n"
   ]
  },
  {
   "cell_type": "markdown",
   "metadata": {},
   "source": []
  }
 ],
 "metadata": {
  "hide_input": false,
  "kernelspec": {
   "display_name": "Python 3.9.7",
   "language": "python",
   "name": "python3"
  },
  "language_info": {
   "codemirror_mode": {
    "name": "ipython",
    "version": 3
   },
   "file_extension": ".py",
   "mimetype": "text/x-python",
   "name": "python",
   "nbconvert_exporter": "python",
   "pygments_lexer": "ipython3",
   "version": "3.11.4"
  },
  "toc": {
   "base_numbering": 1,
   "nav_menu": {},
   "number_sections": true,
   "sideBar": true,
   "skip_h1_title": false,
   "title_cell": "Table of Contents",
   "title_sidebar": "Contents",
   "toc_cell": false,
   "toc_position": {},
   "toc_section_display": true,
   "toc_window_display": false
  },
  "vscode": {
   "interpreter": {
    "hash": "b000d5dfd48d5cfb646e041a58bba0acd5058d1ce315302d38314cb1a7d1b0d6"
   }
  }
 },
 "nbformat": 4,
 "nbformat_minor": 2
}
