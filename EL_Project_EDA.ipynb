{
  "cells": [
    {
      "cell_type": "markdown",
      "metadata": {
        "id": "wP26QBwK2Mpg"
      },
      "source": [
        "# QRT ENS Data Challenge 2023 - Benchmark (english)\n",
        "\n",
        "This notebook details the benchmark construction for the challenge - it may also help participants to start the competition.\n",
        "\n",
        "## Libraries"
      ]
    },
    {
      "cell_type": "code",
      "execution_count": 9,
      "metadata": {
        "id": "4rUyX8Y32Mpi"
      },
      "outputs": [],
      "source": [
        "import numpy as np\n",
        "import pandas as pd\n",
        "from scipy.stats import spearmanr\n",
        "from sklearn.linear_model import LinearRegression\n",
        "import matplotlib.pyplot as plt\n",
        "import matplotlib.pyplot as plt\n",
        "import seaborn as sns"
      ]
    },
    {
      "cell_type": "markdown",
      "metadata": {
        "id": "Fzi0-Aiu2Mpj"
      },
      "source": [
        "## Loading data\n",
        "\n",
        "- `X_train` and `X_test` both have $35$ columns that represent the same explanatory variables but over different time periods.\n",
        "\n",
        "- `X_train` and `Y_train` share the same column `ID` - each row corresponds to a unique ID associated wwith a day and a country.\n",
        "\n",
        "- The target of this challenge `TARGET` in `Y_train` corresponds to the price change for daily futures contracts of 24H electricity baseload.\n",
        "\n",
        "- **You will notice some columns have missing values**.\n"
      ]
    },
    {
      "cell_type": "code",
      "execution_count": 2,
      "metadata": {
        "id": "-tYf-z2n2Mpk"
      },
      "outputs": [],
      "source": [
        "# After downloading the X_train/X_test/Y_train .csv files in your working directory:\n",
        "\n",
        "X_train = pd.read_csv('X_train.csv')\n",
        "Y_train = pd.read_csv('y_train.csv')\n",
        "X_test = pd.read_csv('X_test.csv')"
      ]
    },
    {
      "cell_type": "code",
      "execution_count": 3,
      "metadata": {
        "colab": {
          "base_uri": "https://localhost:8080/",
          "height": 256
        },
        "id": "_e-wBssC2Mpl",
        "outputId": "d70ef3a6-5892-4510-e311-1eaa551ba2f6"
      },
      "outputs": [
        {
          "output_type": "execute_result",
          "data": {
            "text/plain": [
              "     ID  DAY_ID COUNTRY  DE_CONSUMPTION  FR_CONSUMPTION  DE_FR_EXCHANGE  \\\n",
              "0  1054     206      FR        0.210099       -0.427458       -0.606523   \n",
              "1  2049     501      FR       -0.022399       -1.003452       -0.022063   \n",
              "2  1924     687      FR        1.395035        1.978665        1.021305   \n",
              "3   297     720      DE       -0.983324       -0.849198       -0.839586   \n",
              "4  1101     818      FR        0.143807       -0.617038       -0.924990   \n",
              "\n",
              "   FR_DE_EXCHANGE  DE_NET_EXPORT  FR_NET_EXPORT  DE_NET_IMPORT  ...  \\\n",
              "0        0.606523            NaN       0.692860            NaN  ...   \n",
              "1        0.022063      -0.573520      -1.130838       0.573520  ...   \n",
              "2       -1.021305      -0.622021      -1.682587       0.622021  ...   \n",
              "3        0.839586      -0.270870       0.563230       0.270870  ...   \n",
              "4        0.924990            NaN       0.990324            NaN  ...   \n",
              "\n",
              "   FR_RESIDUAL_LOAD   DE_RAIN   FR_RAIN   DE_WIND   FR_WIND   DE_TEMP  \\\n",
              "0         -0.444661 -0.172680 -0.556356 -0.790823 -0.283160 -1.069070   \n",
              "1         -1.183194 -1.240300 -0.770457  1.522331  0.828412  0.437419   \n",
              "2          1.947273 -0.480700 -0.313338  0.431134  0.487608  0.684884   \n",
              "3         -0.976974 -1.114838 -0.507570 -0.499409 -0.236249  0.350938   \n",
              "4         -0.526267 -0.541465 -0.424550 -1.088158 -1.011560  0.614338   \n",
              "\n",
              "    FR_TEMP   GAS_RET  COAL_RET  CARBON_RET  \n",
              "0 -0.063404  0.339041  0.124552   -0.002445  \n",
              "1  1.831241 -0.659091  0.047114   -0.490365  \n",
              "2  0.114836  0.535974  0.743338    0.204952  \n",
              "3 -0.417514  0.911652 -0.296168    1.073948  \n",
              "4  0.729495  0.245109  1.526606    2.614378  \n",
              "\n",
              "[5 rows x 35 columns]"
            ],
            "text/html": [
              "\n",
              "  <div id=\"df-657e5b91-e0a9-4af3-a0f7-9171466bf32b\" class=\"colab-df-container\">\n",
              "    <div>\n",
              "<style scoped>\n",
              "    .dataframe tbody tr th:only-of-type {\n",
              "        vertical-align: middle;\n",
              "    }\n",
              "\n",
              "    .dataframe tbody tr th {\n",
              "        vertical-align: top;\n",
              "    }\n",
              "\n",
              "    .dataframe thead th {\n",
              "        text-align: right;\n",
              "    }\n",
              "</style>\n",
              "<table border=\"1\" class=\"dataframe\">\n",
              "  <thead>\n",
              "    <tr style=\"text-align: right;\">\n",
              "      <th></th>\n",
              "      <th>ID</th>\n",
              "      <th>DAY_ID</th>\n",
              "      <th>COUNTRY</th>\n",
              "      <th>DE_CONSUMPTION</th>\n",
              "      <th>FR_CONSUMPTION</th>\n",
              "      <th>DE_FR_EXCHANGE</th>\n",
              "      <th>FR_DE_EXCHANGE</th>\n",
              "      <th>DE_NET_EXPORT</th>\n",
              "      <th>FR_NET_EXPORT</th>\n",
              "      <th>DE_NET_IMPORT</th>\n",
              "      <th>...</th>\n",
              "      <th>FR_RESIDUAL_LOAD</th>\n",
              "      <th>DE_RAIN</th>\n",
              "      <th>FR_RAIN</th>\n",
              "      <th>DE_WIND</th>\n",
              "      <th>FR_WIND</th>\n",
              "      <th>DE_TEMP</th>\n",
              "      <th>FR_TEMP</th>\n",
              "      <th>GAS_RET</th>\n",
              "      <th>COAL_RET</th>\n",
              "      <th>CARBON_RET</th>\n",
              "    </tr>\n",
              "  </thead>\n",
              "  <tbody>\n",
              "    <tr>\n",
              "      <th>0</th>\n",
              "      <td>1054</td>\n",
              "      <td>206</td>\n",
              "      <td>FR</td>\n",
              "      <td>0.210099</td>\n",
              "      <td>-0.427458</td>\n",
              "      <td>-0.606523</td>\n",
              "      <td>0.606523</td>\n",
              "      <td>NaN</td>\n",
              "      <td>0.692860</td>\n",
              "      <td>NaN</td>\n",
              "      <td>...</td>\n",
              "      <td>-0.444661</td>\n",
              "      <td>-0.172680</td>\n",
              "      <td>-0.556356</td>\n",
              "      <td>-0.790823</td>\n",
              "      <td>-0.283160</td>\n",
              "      <td>-1.069070</td>\n",
              "      <td>-0.063404</td>\n",
              "      <td>0.339041</td>\n",
              "      <td>0.124552</td>\n",
              "      <td>-0.002445</td>\n",
              "    </tr>\n",
              "    <tr>\n",
              "      <th>1</th>\n",
              "      <td>2049</td>\n",
              "      <td>501</td>\n",
              "      <td>FR</td>\n",
              "      <td>-0.022399</td>\n",
              "      <td>-1.003452</td>\n",
              "      <td>-0.022063</td>\n",
              "      <td>0.022063</td>\n",
              "      <td>-0.573520</td>\n",
              "      <td>-1.130838</td>\n",
              "      <td>0.573520</td>\n",
              "      <td>...</td>\n",
              "      <td>-1.183194</td>\n",
              "      <td>-1.240300</td>\n",
              "      <td>-0.770457</td>\n",
              "      <td>1.522331</td>\n",
              "      <td>0.828412</td>\n",
              "      <td>0.437419</td>\n",
              "      <td>1.831241</td>\n",
              "      <td>-0.659091</td>\n",
              "      <td>0.047114</td>\n",
              "      <td>-0.490365</td>\n",
              "    </tr>\n",
              "    <tr>\n",
              "      <th>2</th>\n",
              "      <td>1924</td>\n",
              "      <td>687</td>\n",
              "      <td>FR</td>\n",
              "      <td>1.395035</td>\n",
              "      <td>1.978665</td>\n",
              "      <td>1.021305</td>\n",
              "      <td>-1.021305</td>\n",
              "      <td>-0.622021</td>\n",
              "      <td>-1.682587</td>\n",
              "      <td>0.622021</td>\n",
              "      <td>...</td>\n",
              "      <td>1.947273</td>\n",
              "      <td>-0.480700</td>\n",
              "      <td>-0.313338</td>\n",
              "      <td>0.431134</td>\n",
              "      <td>0.487608</td>\n",
              "      <td>0.684884</td>\n",
              "      <td>0.114836</td>\n",
              "      <td>0.535974</td>\n",
              "      <td>0.743338</td>\n",
              "      <td>0.204952</td>\n",
              "    </tr>\n",
              "    <tr>\n",
              "      <th>3</th>\n",
              "      <td>297</td>\n",
              "      <td>720</td>\n",
              "      <td>DE</td>\n",
              "      <td>-0.983324</td>\n",
              "      <td>-0.849198</td>\n",
              "      <td>-0.839586</td>\n",
              "      <td>0.839586</td>\n",
              "      <td>-0.270870</td>\n",
              "      <td>0.563230</td>\n",
              "      <td>0.270870</td>\n",
              "      <td>...</td>\n",
              "      <td>-0.976974</td>\n",
              "      <td>-1.114838</td>\n",
              "      <td>-0.507570</td>\n",
              "      <td>-0.499409</td>\n",
              "      <td>-0.236249</td>\n",
              "      <td>0.350938</td>\n",
              "      <td>-0.417514</td>\n",
              "      <td>0.911652</td>\n",
              "      <td>-0.296168</td>\n",
              "      <td>1.073948</td>\n",
              "    </tr>\n",
              "    <tr>\n",
              "      <th>4</th>\n",
              "      <td>1101</td>\n",
              "      <td>818</td>\n",
              "      <td>FR</td>\n",
              "      <td>0.143807</td>\n",
              "      <td>-0.617038</td>\n",
              "      <td>-0.924990</td>\n",
              "      <td>0.924990</td>\n",
              "      <td>NaN</td>\n",
              "      <td>0.990324</td>\n",
              "      <td>NaN</td>\n",
              "      <td>...</td>\n",
              "      <td>-0.526267</td>\n",
              "      <td>-0.541465</td>\n",
              "      <td>-0.424550</td>\n",
              "      <td>-1.088158</td>\n",
              "      <td>-1.011560</td>\n",
              "      <td>0.614338</td>\n",
              "      <td>0.729495</td>\n",
              "      <td>0.245109</td>\n",
              "      <td>1.526606</td>\n",
              "      <td>2.614378</td>\n",
              "    </tr>\n",
              "  </tbody>\n",
              "</table>\n",
              "<p>5 rows × 35 columns</p>\n",
              "</div>\n",
              "    <div class=\"colab-df-buttons\">\n",
              "\n",
              "  <div class=\"colab-df-container\">\n",
              "    <button class=\"colab-df-convert\" onclick=\"convertToInteractive('df-657e5b91-e0a9-4af3-a0f7-9171466bf32b')\"\n",
              "            title=\"Convert this dataframe to an interactive table.\"\n",
              "            style=\"display:none;\">\n",
              "\n",
              "  <svg xmlns=\"http://www.w3.org/2000/svg\" height=\"24px\" viewBox=\"0 -960 960 960\">\n",
              "    <path d=\"M120-120v-720h720v720H120Zm60-500h600v-160H180v160Zm220 220h160v-160H400v160Zm0 220h160v-160H400v160ZM180-400h160v-160H180v160Zm440 0h160v-160H620v160ZM180-180h160v-160H180v160Zm440 0h160v-160H620v160Z\"/>\n",
              "  </svg>\n",
              "    </button>\n",
              "\n",
              "  <style>\n",
              "    .colab-df-container {\n",
              "      display:flex;\n",
              "      gap: 12px;\n",
              "    }\n",
              "\n",
              "    .colab-df-convert {\n",
              "      background-color: #E8F0FE;\n",
              "      border: none;\n",
              "      border-radius: 50%;\n",
              "      cursor: pointer;\n",
              "      display: none;\n",
              "      fill: #1967D2;\n",
              "      height: 32px;\n",
              "      padding: 0 0 0 0;\n",
              "      width: 32px;\n",
              "    }\n",
              "\n",
              "    .colab-df-convert:hover {\n",
              "      background-color: #E2EBFA;\n",
              "      box-shadow: 0px 1px 2px rgba(60, 64, 67, 0.3), 0px 1px 3px 1px rgba(60, 64, 67, 0.15);\n",
              "      fill: #174EA6;\n",
              "    }\n",
              "\n",
              "    .colab-df-buttons div {\n",
              "      margin-bottom: 4px;\n",
              "    }\n",
              "\n",
              "    [theme=dark] .colab-df-convert {\n",
              "      background-color: #3B4455;\n",
              "      fill: #D2E3FC;\n",
              "    }\n",
              "\n",
              "    [theme=dark] .colab-df-convert:hover {\n",
              "      background-color: #434B5C;\n",
              "      box-shadow: 0px 1px 3px 1px rgba(0, 0, 0, 0.15);\n",
              "      filter: drop-shadow(0px 1px 2px rgba(0, 0, 0, 0.3));\n",
              "      fill: #FFFFFF;\n",
              "    }\n",
              "  </style>\n",
              "\n",
              "    <script>\n",
              "      const buttonEl =\n",
              "        document.querySelector('#df-657e5b91-e0a9-4af3-a0f7-9171466bf32b button.colab-df-convert');\n",
              "      buttonEl.style.display =\n",
              "        google.colab.kernel.accessAllowed ? 'block' : 'none';\n",
              "\n",
              "      async function convertToInteractive(key) {\n",
              "        const element = document.querySelector('#df-657e5b91-e0a9-4af3-a0f7-9171466bf32b');\n",
              "        const dataTable =\n",
              "          await google.colab.kernel.invokeFunction('convertToInteractive',\n",
              "                                                    [key], {});\n",
              "        if (!dataTable) return;\n",
              "\n",
              "        const docLinkHtml = 'Like what you see? Visit the ' +\n",
              "          '<a target=\"_blank\" href=https://colab.research.google.com/notebooks/data_table.ipynb>data table notebook</a>'\n",
              "          + ' to learn more about interactive tables.';\n",
              "        element.innerHTML = '';\n",
              "        dataTable['output_type'] = 'display_data';\n",
              "        await google.colab.output.renderOutput(dataTable, element);\n",
              "        const docLink = document.createElement('div');\n",
              "        docLink.innerHTML = docLinkHtml;\n",
              "        element.appendChild(docLink);\n",
              "      }\n",
              "    </script>\n",
              "  </div>\n",
              "\n",
              "\n",
              "<div id=\"df-e35c41e5-3dae-45c0-9c37-3e5aa4042b5d\">\n",
              "  <button class=\"colab-df-quickchart\" onclick=\"quickchart('df-e35c41e5-3dae-45c0-9c37-3e5aa4042b5d')\"\n",
              "            title=\"Suggest charts\"\n",
              "            style=\"display:none;\">\n",
              "\n",
              "<svg xmlns=\"http://www.w3.org/2000/svg\" height=\"24px\"viewBox=\"0 0 24 24\"\n",
              "     width=\"24px\">\n",
              "    <g>\n",
              "        <path d=\"M19 3H5c-1.1 0-2 .9-2 2v14c0 1.1.9 2 2 2h14c1.1 0 2-.9 2-2V5c0-1.1-.9-2-2-2zM9 17H7v-7h2v7zm4 0h-2V7h2v10zm4 0h-2v-4h2v4z\"/>\n",
              "    </g>\n",
              "</svg>\n",
              "  </button>\n",
              "\n",
              "<style>\n",
              "  .colab-df-quickchart {\n",
              "      --bg-color: #E8F0FE;\n",
              "      --fill-color: #1967D2;\n",
              "      --hover-bg-color: #E2EBFA;\n",
              "      --hover-fill-color: #174EA6;\n",
              "      --disabled-fill-color: #AAA;\n",
              "      --disabled-bg-color: #DDD;\n",
              "  }\n",
              "\n",
              "  [theme=dark] .colab-df-quickchart {\n",
              "      --bg-color: #3B4455;\n",
              "      --fill-color: #D2E3FC;\n",
              "      --hover-bg-color: #434B5C;\n",
              "      --hover-fill-color: #FFFFFF;\n",
              "      --disabled-bg-color: #3B4455;\n",
              "      --disabled-fill-color: #666;\n",
              "  }\n",
              "\n",
              "  .colab-df-quickchart {\n",
              "    background-color: var(--bg-color);\n",
              "    border: none;\n",
              "    border-radius: 50%;\n",
              "    cursor: pointer;\n",
              "    display: none;\n",
              "    fill: var(--fill-color);\n",
              "    height: 32px;\n",
              "    padding: 0;\n",
              "    width: 32px;\n",
              "  }\n",
              "\n",
              "  .colab-df-quickchart:hover {\n",
              "    background-color: var(--hover-bg-color);\n",
              "    box-shadow: 0 1px 2px rgba(60, 64, 67, 0.3), 0 1px 3px 1px rgba(60, 64, 67, 0.15);\n",
              "    fill: var(--button-hover-fill-color);\n",
              "  }\n",
              "\n",
              "  .colab-df-quickchart-complete:disabled,\n",
              "  .colab-df-quickchart-complete:disabled:hover {\n",
              "    background-color: var(--disabled-bg-color);\n",
              "    fill: var(--disabled-fill-color);\n",
              "    box-shadow: none;\n",
              "  }\n",
              "\n",
              "  .colab-df-spinner {\n",
              "    border: 2px solid var(--fill-color);\n",
              "    border-color: transparent;\n",
              "    border-bottom-color: var(--fill-color);\n",
              "    animation:\n",
              "      spin 1s steps(1) infinite;\n",
              "  }\n",
              "\n",
              "  @keyframes spin {\n",
              "    0% {\n",
              "      border-color: transparent;\n",
              "      border-bottom-color: var(--fill-color);\n",
              "      border-left-color: var(--fill-color);\n",
              "    }\n",
              "    20% {\n",
              "      border-color: transparent;\n",
              "      border-left-color: var(--fill-color);\n",
              "      border-top-color: var(--fill-color);\n",
              "    }\n",
              "    30% {\n",
              "      border-color: transparent;\n",
              "      border-left-color: var(--fill-color);\n",
              "      border-top-color: var(--fill-color);\n",
              "      border-right-color: var(--fill-color);\n",
              "    }\n",
              "    40% {\n",
              "      border-color: transparent;\n",
              "      border-right-color: var(--fill-color);\n",
              "      border-top-color: var(--fill-color);\n",
              "    }\n",
              "    60% {\n",
              "      border-color: transparent;\n",
              "      border-right-color: var(--fill-color);\n",
              "    }\n",
              "    80% {\n",
              "      border-color: transparent;\n",
              "      border-right-color: var(--fill-color);\n",
              "      border-bottom-color: var(--fill-color);\n",
              "    }\n",
              "    90% {\n",
              "      border-color: transparent;\n",
              "      border-bottom-color: var(--fill-color);\n",
              "    }\n",
              "  }\n",
              "</style>\n",
              "\n",
              "  <script>\n",
              "    async function quickchart(key) {\n",
              "      const quickchartButtonEl =\n",
              "        document.querySelector('#' + key + ' button');\n",
              "      quickchartButtonEl.disabled = true;  // To prevent multiple clicks.\n",
              "      quickchartButtonEl.classList.add('colab-df-spinner');\n",
              "      try {\n",
              "        const charts = await google.colab.kernel.invokeFunction(\n",
              "            'suggestCharts', [key], {});\n",
              "      } catch (error) {\n",
              "        console.error('Error during call to suggestCharts:', error);\n",
              "      }\n",
              "      quickchartButtonEl.classList.remove('colab-df-spinner');\n",
              "      quickchartButtonEl.classList.add('colab-df-quickchart-complete');\n",
              "    }\n",
              "    (() => {\n",
              "      let quickchartButtonEl =\n",
              "        document.querySelector('#df-e35c41e5-3dae-45c0-9c37-3e5aa4042b5d button');\n",
              "      quickchartButtonEl.style.display =\n",
              "        google.colab.kernel.accessAllowed ? 'block' : 'none';\n",
              "    })();\n",
              "  </script>\n",
              "</div>\n",
              "    </div>\n",
              "  </div>\n"
            ]
          },
          "metadata": {},
          "execution_count": 3
        }
      ],
      "source": [
        "X_train.head()"
      ]
    },
    {
      "cell_type": "code",
      "execution_count": 4,
      "metadata": {
        "colab": {
          "base_uri": "https://localhost:8080/",
          "height": 206
        },
        "id": "zY_XKoHX2Mpm",
        "outputId": "b1c5febc-3b5a-48ce-d84a-4877703c8c2b"
      },
      "outputs": [
        {
          "output_type": "execute_result",
          "data": {
            "text/plain": [
              "     ID    TARGET\n",
              "0  1054  0.028313\n",
              "1  2049 -0.112516\n",
              "2  1924 -0.180840\n",
              "3   297 -0.260356\n",
              "4  1101 -0.071733"
            ],
            "text/html": [
              "\n",
              "  <div id=\"df-2aa18454-857a-4367-ab66-470d77fc3ce4\" class=\"colab-df-container\">\n",
              "    <div>\n",
              "<style scoped>\n",
              "    .dataframe tbody tr th:only-of-type {\n",
              "        vertical-align: middle;\n",
              "    }\n",
              "\n",
              "    .dataframe tbody tr th {\n",
              "        vertical-align: top;\n",
              "    }\n",
              "\n",
              "    .dataframe thead th {\n",
              "        text-align: right;\n",
              "    }\n",
              "</style>\n",
              "<table border=\"1\" class=\"dataframe\">\n",
              "  <thead>\n",
              "    <tr style=\"text-align: right;\">\n",
              "      <th></th>\n",
              "      <th>ID</th>\n",
              "      <th>TARGET</th>\n",
              "    </tr>\n",
              "  </thead>\n",
              "  <tbody>\n",
              "    <tr>\n",
              "      <th>0</th>\n",
              "      <td>1054</td>\n",
              "      <td>0.028313</td>\n",
              "    </tr>\n",
              "    <tr>\n",
              "      <th>1</th>\n",
              "      <td>2049</td>\n",
              "      <td>-0.112516</td>\n",
              "    </tr>\n",
              "    <tr>\n",
              "      <th>2</th>\n",
              "      <td>1924</td>\n",
              "      <td>-0.180840</td>\n",
              "    </tr>\n",
              "    <tr>\n",
              "      <th>3</th>\n",
              "      <td>297</td>\n",
              "      <td>-0.260356</td>\n",
              "    </tr>\n",
              "    <tr>\n",
              "      <th>4</th>\n",
              "      <td>1101</td>\n",
              "      <td>-0.071733</td>\n",
              "    </tr>\n",
              "  </tbody>\n",
              "</table>\n",
              "</div>\n",
              "    <div class=\"colab-df-buttons\">\n",
              "\n",
              "  <div class=\"colab-df-container\">\n",
              "    <button class=\"colab-df-convert\" onclick=\"convertToInteractive('df-2aa18454-857a-4367-ab66-470d77fc3ce4')\"\n",
              "            title=\"Convert this dataframe to an interactive table.\"\n",
              "            style=\"display:none;\">\n",
              "\n",
              "  <svg xmlns=\"http://www.w3.org/2000/svg\" height=\"24px\" viewBox=\"0 -960 960 960\">\n",
              "    <path d=\"M120-120v-720h720v720H120Zm60-500h600v-160H180v160Zm220 220h160v-160H400v160Zm0 220h160v-160H400v160ZM180-400h160v-160H180v160Zm440 0h160v-160H620v160ZM180-180h160v-160H180v160Zm440 0h160v-160H620v160Z\"/>\n",
              "  </svg>\n",
              "    </button>\n",
              "\n",
              "  <style>\n",
              "    .colab-df-container {\n",
              "      display:flex;\n",
              "      gap: 12px;\n",
              "    }\n",
              "\n",
              "    .colab-df-convert {\n",
              "      background-color: #E8F0FE;\n",
              "      border: none;\n",
              "      border-radius: 50%;\n",
              "      cursor: pointer;\n",
              "      display: none;\n",
              "      fill: #1967D2;\n",
              "      height: 32px;\n",
              "      padding: 0 0 0 0;\n",
              "      width: 32px;\n",
              "    }\n",
              "\n",
              "    .colab-df-convert:hover {\n",
              "      background-color: #E2EBFA;\n",
              "      box-shadow: 0px 1px 2px rgba(60, 64, 67, 0.3), 0px 1px 3px 1px rgba(60, 64, 67, 0.15);\n",
              "      fill: #174EA6;\n",
              "    }\n",
              "\n",
              "    .colab-df-buttons div {\n",
              "      margin-bottom: 4px;\n",
              "    }\n",
              "\n",
              "    [theme=dark] .colab-df-convert {\n",
              "      background-color: #3B4455;\n",
              "      fill: #D2E3FC;\n",
              "    }\n",
              "\n",
              "    [theme=dark] .colab-df-convert:hover {\n",
              "      background-color: #434B5C;\n",
              "      box-shadow: 0px 1px 3px 1px rgba(0, 0, 0, 0.15);\n",
              "      filter: drop-shadow(0px 1px 2px rgba(0, 0, 0, 0.3));\n",
              "      fill: #FFFFFF;\n",
              "    }\n",
              "  </style>\n",
              "\n",
              "    <script>\n",
              "      const buttonEl =\n",
              "        document.querySelector('#df-2aa18454-857a-4367-ab66-470d77fc3ce4 button.colab-df-convert');\n",
              "      buttonEl.style.display =\n",
              "        google.colab.kernel.accessAllowed ? 'block' : 'none';\n",
              "\n",
              "      async function convertToInteractive(key) {\n",
              "        const element = document.querySelector('#df-2aa18454-857a-4367-ab66-470d77fc3ce4');\n",
              "        const dataTable =\n",
              "          await google.colab.kernel.invokeFunction('convertToInteractive',\n",
              "                                                    [key], {});\n",
              "        if (!dataTable) return;\n",
              "\n",
              "        const docLinkHtml = 'Like what you see? Visit the ' +\n",
              "          '<a target=\"_blank\" href=https://colab.research.google.com/notebooks/data_table.ipynb>data table notebook</a>'\n",
              "          + ' to learn more about interactive tables.';\n",
              "        element.innerHTML = '';\n",
              "        dataTable['output_type'] = 'display_data';\n",
              "        await google.colab.output.renderOutput(dataTable, element);\n",
              "        const docLink = document.createElement('div');\n",
              "        docLink.innerHTML = docLinkHtml;\n",
              "        element.appendChild(docLink);\n",
              "      }\n",
              "    </script>\n",
              "  </div>\n",
              "\n",
              "\n",
              "<div id=\"df-04562d28-341d-4784-abbb-071386f7f00e\">\n",
              "  <button class=\"colab-df-quickchart\" onclick=\"quickchart('df-04562d28-341d-4784-abbb-071386f7f00e')\"\n",
              "            title=\"Suggest charts\"\n",
              "            style=\"display:none;\">\n",
              "\n",
              "<svg xmlns=\"http://www.w3.org/2000/svg\" height=\"24px\"viewBox=\"0 0 24 24\"\n",
              "     width=\"24px\">\n",
              "    <g>\n",
              "        <path d=\"M19 3H5c-1.1 0-2 .9-2 2v14c0 1.1.9 2 2 2h14c1.1 0 2-.9 2-2V5c0-1.1-.9-2-2-2zM9 17H7v-7h2v7zm4 0h-2V7h2v10zm4 0h-2v-4h2v4z\"/>\n",
              "    </g>\n",
              "</svg>\n",
              "  </button>\n",
              "\n",
              "<style>\n",
              "  .colab-df-quickchart {\n",
              "      --bg-color: #E8F0FE;\n",
              "      --fill-color: #1967D2;\n",
              "      --hover-bg-color: #E2EBFA;\n",
              "      --hover-fill-color: #174EA6;\n",
              "      --disabled-fill-color: #AAA;\n",
              "      --disabled-bg-color: #DDD;\n",
              "  }\n",
              "\n",
              "  [theme=dark] .colab-df-quickchart {\n",
              "      --bg-color: #3B4455;\n",
              "      --fill-color: #D2E3FC;\n",
              "      --hover-bg-color: #434B5C;\n",
              "      --hover-fill-color: #FFFFFF;\n",
              "      --disabled-bg-color: #3B4455;\n",
              "      --disabled-fill-color: #666;\n",
              "  }\n",
              "\n",
              "  .colab-df-quickchart {\n",
              "    background-color: var(--bg-color);\n",
              "    border: none;\n",
              "    border-radius: 50%;\n",
              "    cursor: pointer;\n",
              "    display: none;\n",
              "    fill: var(--fill-color);\n",
              "    height: 32px;\n",
              "    padding: 0;\n",
              "    width: 32px;\n",
              "  }\n",
              "\n",
              "  .colab-df-quickchart:hover {\n",
              "    background-color: var(--hover-bg-color);\n",
              "    box-shadow: 0 1px 2px rgba(60, 64, 67, 0.3), 0 1px 3px 1px rgba(60, 64, 67, 0.15);\n",
              "    fill: var(--button-hover-fill-color);\n",
              "  }\n",
              "\n",
              "  .colab-df-quickchart-complete:disabled,\n",
              "  .colab-df-quickchart-complete:disabled:hover {\n",
              "    background-color: var(--disabled-bg-color);\n",
              "    fill: var(--disabled-fill-color);\n",
              "    box-shadow: none;\n",
              "  }\n",
              "\n",
              "  .colab-df-spinner {\n",
              "    border: 2px solid var(--fill-color);\n",
              "    border-color: transparent;\n",
              "    border-bottom-color: var(--fill-color);\n",
              "    animation:\n",
              "      spin 1s steps(1) infinite;\n",
              "  }\n",
              "\n",
              "  @keyframes spin {\n",
              "    0% {\n",
              "      border-color: transparent;\n",
              "      border-bottom-color: var(--fill-color);\n",
              "      border-left-color: var(--fill-color);\n",
              "    }\n",
              "    20% {\n",
              "      border-color: transparent;\n",
              "      border-left-color: var(--fill-color);\n",
              "      border-top-color: var(--fill-color);\n",
              "    }\n",
              "    30% {\n",
              "      border-color: transparent;\n",
              "      border-left-color: var(--fill-color);\n",
              "      border-top-color: var(--fill-color);\n",
              "      border-right-color: var(--fill-color);\n",
              "    }\n",
              "    40% {\n",
              "      border-color: transparent;\n",
              "      border-right-color: var(--fill-color);\n",
              "      border-top-color: var(--fill-color);\n",
              "    }\n",
              "    60% {\n",
              "      border-color: transparent;\n",
              "      border-right-color: var(--fill-color);\n",
              "    }\n",
              "    80% {\n",
              "      border-color: transparent;\n",
              "      border-right-color: var(--fill-color);\n",
              "      border-bottom-color: var(--fill-color);\n",
              "    }\n",
              "    90% {\n",
              "      border-color: transparent;\n",
              "      border-bottom-color: var(--fill-color);\n",
              "    }\n",
              "  }\n",
              "</style>\n",
              "\n",
              "  <script>\n",
              "    async function quickchart(key) {\n",
              "      const quickchartButtonEl =\n",
              "        document.querySelector('#' + key + ' button');\n",
              "      quickchartButtonEl.disabled = true;  // To prevent multiple clicks.\n",
              "      quickchartButtonEl.classList.add('colab-df-spinner');\n",
              "      try {\n",
              "        const charts = await google.colab.kernel.invokeFunction(\n",
              "            'suggestCharts', [key], {});\n",
              "      } catch (error) {\n",
              "        console.error('Error during call to suggestCharts:', error);\n",
              "      }\n",
              "      quickchartButtonEl.classList.remove('colab-df-spinner');\n",
              "      quickchartButtonEl.classList.add('colab-df-quickchart-complete');\n",
              "    }\n",
              "    (() => {\n",
              "      let quickchartButtonEl =\n",
              "        document.querySelector('#df-04562d28-341d-4784-abbb-071386f7f00e button');\n",
              "      quickchartButtonEl.style.display =\n",
              "        google.colab.kernel.accessAllowed ? 'block' : 'none';\n",
              "    })();\n",
              "  </script>\n",
              "</div>\n",
              "    </div>\n",
              "  </div>\n"
            ]
          },
          "metadata": {},
          "execution_count": 4
        }
      ],
      "source": [
        "Y_train.head()"
      ]
    },
    {
      "cell_type": "markdown",
      "source": [
        "## Null Value check"
      ],
      "metadata": {
        "id": "K_0oPjkwAKIV"
      }
    },
    {
      "cell_type": "code",
      "source": [
        "Y_train.shape"
      ],
      "metadata": {
        "colab": {
          "base_uri": "https://localhost:8080/"
        },
        "id": "zMS2TY2gAa4k",
        "outputId": "d2f253da-1ab2-4413-e97a-2abbb80bcb1c"
      },
      "execution_count": 5,
      "outputs": [
        {
          "output_type": "execute_result",
          "data": {
            "text/plain": [
              "(1494, 2)"
            ]
          },
          "metadata": {},
          "execution_count": 5
        }
      ]
    },
    {
      "cell_type": "code",
      "source": [
        "def print_null_values(df, name):\n",
        "    print(f\"Null values in {name}:\")\n",
        "    null_counts = df.isnull().sum()\n",
        "    for column, count in null_counts.iteritems():\n",
        "        print(f\"{column}: {count}\")\n",
        "    print(\"\\n\")  # Print a newline for better readability\n",
        "\n",
        "# Print the null values for each dataset\n",
        "print_null_values(X_train, 'X_train')\n",
        "print_null_values(Y_train, 'Y_train')\n",
        "print_null_values(X_test, 'X_test')\n"
      ],
      "metadata": {
        "colab": {
          "base_uri": "https://localhost:8080/"
        },
        "id": "Rkkyj0YNAPO0",
        "outputId": "d75da4f9-39ee-4108-b0eb-6bb3683d62ce"
      },
      "execution_count": 6,
      "outputs": [
        {
          "output_type": "stream",
          "name": "stdout",
          "text": [
            "Null values in X_train:\n",
            "ID: 0\n",
            "DAY_ID: 0\n",
            "COUNTRY: 0\n",
            "DE_CONSUMPTION: 0\n",
            "FR_CONSUMPTION: 0\n",
            "DE_FR_EXCHANGE: 25\n",
            "FR_DE_EXCHANGE: 25\n",
            "DE_NET_EXPORT: 124\n",
            "FR_NET_EXPORT: 70\n",
            "DE_NET_IMPORT: 124\n",
            "FR_NET_IMPORT: 70\n",
            "DE_GAS: 0\n",
            "FR_GAS: 0\n",
            "DE_COAL: 0\n",
            "FR_COAL: 0\n",
            "DE_HYDRO: 0\n",
            "FR_HYDRO: 0\n",
            "DE_NUCLEAR: 0\n",
            "FR_NUCLEAR: 0\n",
            "DE_SOLAR: 0\n",
            "FR_SOLAR: 0\n",
            "DE_WINDPOW: 0\n",
            "FR_WINDPOW: 0\n",
            "DE_LIGNITE: 0\n",
            "DE_RESIDUAL_LOAD: 0\n",
            "FR_RESIDUAL_LOAD: 0\n",
            "DE_RAIN: 94\n",
            "FR_RAIN: 94\n",
            "DE_WIND: 94\n",
            "FR_WIND: 94\n",
            "DE_TEMP: 94\n",
            "FR_TEMP: 94\n",
            "GAS_RET: 0\n",
            "COAL_RET: 0\n",
            "CARBON_RET: 0\n",
            "\n",
            "\n",
            "Null values in Y_train:\n",
            "ID: 0\n",
            "TARGET: 0\n",
            "\n",
            "\n",
            "Null values in X_test:\n",
            "ID: 0\n",
            "DAY_ID: 0\n",
            "COUNTRY: 0\n",
            "DE_CONSUMPTION: 0\n",
            "FR_CONSUMPTION: 0\n",
            "DE_FR_EXCHANGE: 9\n",
            "FR_DE_EXCHANGE: 9\n",
            "DE_NET_EXPORT: 47\n",
            "FR_NET_EXPORT: 24\n",
            "DE_NET_IMPORT: 47\n",
            "FR_NET_IMPORT: 24\n",
            "DE_GAS: 0\n",
            "FR_GAS: 0\n",
            "DE_COAL: 0\n",
            "FR_COAL: 0\n",
            "DE_HYDRO: 0\n",
            "FR_HYDRO: 0\n",
            "DE_NUCLEAR: 0\n",
            "FR_NUCLEAR: 0\n",
            "DE_SOLAR: 0\n",
            "FR_SOLAR: 0\n",
            "DE_WINDPOW: 0\n",
            "FR_WINDPOW: 0\n",
            "DE_LIGNITE: 0\n",
            "DE_RESIDUAL_LOAD: 0\n",
            "FR_RESIDUAL_LOAD: 0\n",
            "DE_RAIN: 40\n",
            "FR_RAIN: 40\n",
            "DE_WIND: 40\n",
            "FR_WIND: 40\n",
            "DE_TEMP: 40\n",
            "FR_TEMP: 40\n",
            "GAS_RET: 0\n",
            "COAL_RET: 0\n",
            "CARBON_RET: 0\n",
            "\n",
            "\n"
          ]
        },
        {
          "output_type": "stream",
          "name": "stderr",
          "text": [
            "<ipython-input-6-ea7f8f4d1cfe>:4: FutureWarning: iteritems is deprecated and will be removed in a future version. Use .items instead.\n",
            "  for column, count in null_counts.iteritems():\n",
            "<ipython-input-6-ea7f8f4d1cfe>:4: FutureWarning: iteritems is deprecated and will be removed in a future version. Use .items instead.\n",
            "  for column, count in null_counts.iteritems():\n",
            "<ipython-input-6-ea7f8f4d1cfe>:4: FutureWarning: iteritems is deprecated and will be removed in a future version. Use .items instead.\n",
            "  for column, count in null_counts.iteritems():\n"
          ]
        }
      ]
    },
    {
      "cell_type": "markdown",
      "source": [
        "## Country distribution"
      ],
      "metadata": {
        "id": "6OadlqMzHUMY"
      }
    },
    {
      "cell_type": "code",
      "source": [
        "# Create a bar plot of country counts\n",
        "sns.set(style=\"whitegrid\")\n",
        "plt.figure(figsize=(8, 6))\n",
        "sns.countplot(x='COUNTRY', data=X_train, palette='coolwarm')\n",
        "\n",
        "plt.title('Count of Observations by Country')\n",
        "plt.xlabel('Country')\n",
        "plt.ylabel('Count')\n",
        "plt.xticks(rotation=45)  # Rotate labels if needed\n",
        "\n",
        "plt.show()\n"
      ],
      "metadata": {
        "colab": {
          "base_uri": "https://localhost:8080/",
          "height": 675
        },
        "id": "TDxdsnSaMZV7",
        "outputId": "e18b7a21-e56d-4f6a-a3c4-ca882989b4ee"
      },
      "execution_count": 10,
      "outputs": [
        {
          "output_type": "stream",
          "name": "stderr",
          "text": [
            "<ipython-input-10-7333477455b1>:4: FutureWarning: \n",
            "\n",
            "Passing `palette` without assigning `hue` is deprecated and will be removed in v0.14.0. Assign the `x` variable to `hue` and set `legend=False` for the same effect.\n",
            "\n",
            "  sns.countplot(x='COUNTRY', data=X_train, palette='coolwarm')\n"
          ]
        },
        {
          "output_type": "display_data",
          "data": {
            "text/plain": [
              "<Figure size 800x600 with 1 Axes>"
            ],
            "image/png": "[encoded data removed]"
          },
          "metadata": {}
        }
      ]
    },
    {
      "cell_type": "code",
      "source": [
        "# Group the data by 'COUNTRY' and calculate count, mean, median for selected features\n",
        "grouped_by_country = X_train.groupby('COUNTRY').agg(['count', 'mean', 'median'])\n",
        "\n",
        "# Selecting a subset of features for demonstration. You can adjust this list as needed.\n",
        "features_of_interest = ['DE_CONSUMPTION', 'FR_CONSUMPTION', 'DE_NET_EXPORT', 'FR_NET_EXPORT',\n",
        "                        'DE_SOLAR', 'FR_SOLAR', 'DE_WINDPOW', 'FR_WINDPOW', 'DE_TEMP', 'FR_TEMP']\n",
        "\n",
        "# Print the summary statistics for these features grouped by country\n",
        "summary_by_country = grouped_by_country[features_of_interest]\n",
        "print(summary_by_country)"
      ],
      "metadata": {
        "colab": {
          "base_uri": "https://localhost:8080/"
        },
        "id": "vjnItmu9HTlv",
        "outputId": "280a4c79-fef6-4f08-bd03-3e8e09e6a8e4"
      },
      "execution_count": 11,
      "outputs": [
        {
          "output_type": "stream",
          "name": "stdout",
          "text": [
            "        DE_CONSUMPTION                     FR_CONSUMPTION                      \\\n",
            "                 count      mean    median          count      mean    median   \n",
            "COUNTRY                                                                         \n",
            "DE                 643  0.379809  0.288112            643 -0.091154 -0.465141   \n",
            "FR                 851  0.463432  0.410629            851  0.033707 -0.365601   \n",
            "\n",
            "        DE_NET_EXPORT                     FR_NET_EXPORT  ... DE_WINDPOW  \\\n",
            "                count      mean    median         count  ...     median   \n",
            "COUNTRY                                                  ...              \n",
            "DE                643 -0.327798 -0.404441           643  ...  -0.078279   \n",
            "FR                727 -0.193123 -0.244606           781  ...  -0.103101   \n",
            "\n",
            "        FR_WINDPOW                     DE_TEMP                     FR_TEMP  \\\n",
            "             count      mean    median   count      mean    median   count   \n",
            "COUNTRY                                                                      \n",
            "DE             643  0.446359  0.062532     596  0.005839 -0.035360     596   \n",
            "FR             851  0.362208 -0.009072     804  0.012129 -0.009017     804   \n",
            "\n",
            "                             \n",
            "             mean    median  \n",
            "COUNTRY                      \n",
            "DE       0.016396 -0.032517  \n",
            "FR       0.002481 -0.012600  \n",
            "\n",
            "[2 rows x 30 columns]\n"
          ]
        }
      ]
    },
    {
      "cell_type": "code",
      "source": [
        "# Example: Plotting histograms for temperature in France and Germany\n",
        "plt.figure(figsize=(14, 6))\n",
        "\n",
        "# Temperature in Germany\n",
        "plt.subplot(1, 2, 1)\n",
        "sns.histplot(X_train[X_train['COUNTRY'] == 'DE']['DE_TEMP'], bins=30, kde=True)\n",
        "plt.title('Temperature Distribution in Germany')\n",
        "\n",
        "# Temperature in France\n",
        "plt.subplot(1, 2, 2)\n",
        "sns.histplot(X_train[X_train['COUNTRY'] == 'FR']['FR_TEMP'], bins=30, kde=True)\n",
        "plt.title('Temperature Distribution in France')\n",
        "\n",
        "plt.show()\n"
      ],
      "metadata": {
        "colab": {
          "base_uri": "https://localhost:8080/",
          "height": 573
        },
        "id": "g-9HXNLhHZE4",
        "outputId": "f03857e0-fdd0-4ba8-8c63-64dded50b4ae"
      },
      "execution_count": 12,
      "outputs": [
        {
          "output_type": "display_data",
          "data": {
            "text/plain": [
              "<Figure size 1400x600 with 2 Axes>"
            ],
            "image/png": "[encoded data removed]"
          },
          "metadata": {}
        }
      ]
    },
    {
      "cell_type": "code",
      "source": [
        "# Group the data by 'COUNTRY' and then apply a lambda function to count null values for each column\n",
        "null_values_by_country = X_train.groupby('COUNTRY').apply(lambda x: x.isnull().sum())\n",
        "\n",
        "\n",
        "# Display the null value counts grouped by country\n",
        "print(null_values_by_country)\n"
      ],
      "metadata": {
        "colab": {
          "base_uri": "https://localhost:8080/"
        },
        "id": "LyNYTssGM5fJ",
        "outputId": "1d0f2b63-e412-46f1-a4f2-05687b3466cb"
      },
      "execution_count": 13,
      "outputs": [
        {
          "output_type": "stream",
          "name": "stdout",
          "text": [
            "         ID  DAY_ID  COUNTRY  DE_CONSUMPTION  FR_CONSUMPTION  DE_FR_EXCHANGE  \\\n",
            "COUNTRY                                                                        \n",
            "DE        0       0        0               0               0               0   \n",
            "FR        0       0        0               0               0              25   \n",
            "\n",
            "         FR_DE_EXCHANGE  DE_NET_EXPORT  FR_NET_EXPORT  DE_NET_IMPORT  ...  \\\n",
            "COUNTRY                                                               ...   \n",
            "DE                    0              0              0              0  ...   \n",
            "FR                   25            124             70            124  ...   \n",
            "\n",
            "         FR_RESIDUAL_LOAD  DE_RAIN  FR_RAIN  DE_WIND  FR_WIND  DE_TEMP  \\\n",
            "COUNTRY                                                                  \n",
            "DE                      0       47       47       47       47       47   \n",
            "FR                      0       47       47       47       47       47   \n",
            "\n",
            "         FR_TEMP  GAS_RET  COAL_RET  CARBON_RET  \n",
            "COUNTRY                                          \n",
            "DE            47        0         0           0  \n",
            "FR            47        0         0           0  \n",
            "\n",
            "[2 rows x 35 columns]\n"
          ]
        }
      ]
    },
    {
      "cell_type": "code",
      "source": [
        "# Identify rows with null values in weather-related columns for DE\n",
        "null_de_temp = X_train[X_train['DE_TEMP'].isnull()]['DAY_ID']\n",
        "null_de_rain = X_train[X_train['DE_RAIN'].isnull()]['DAY_ID']\n",
        "null_de_wind = X_train[X_train['DE_WIND'].isnull()]['DAY_ID']\n",
        "\n",
        "# Combine and get unique DAY_IDs for DE\n",
        "null_de_days = pd.unique(null_de_temp.append(null_de_rain).append(null_de_wind))\n",
        "\n",
        "# Identify rows with null values in weather-related columns for FR\n",
        "null_fr_temp = X_train[X_train['FR_TEMP'].isnull()]['DAY_ID']\n",
        "null_fr_rain = X_train[X_train['FR_RAIN'].isnull()]['DAY_ID']\n",
        "null_fr_wind = X_train[X_train['FR_WIND'].isnull()]['DAY_ID']\n",
        "\n",
        "# Combine and get unique DAY_IDs for FR\n",
        "null_fr_days = pd.unique(null_fr_temp.append(null_fr_rain).append(null_fr_wind))\n",
        "\n",
        "# Check if the DAY_IDs with null values are the same for DE and FR\n",
        "common_null_days = set(null_de_days) & set(null_fr_days)\n",
        "\n",
        "# Print the results\n",
        "print(f\"Number of days with nulls in DE: {len(null_de_days)}\")\n",
        "print(f\"Number of days with nulls in FR: {len(null_fr_days)}\")\n",
        "print(f\"Number of common days with nulls in DE and FR: {len(common_null_days)}\")\n",
        "print(f\"Common DAY_IDs with nulls: {common_null_days}\")\n"
      ],
      "metadata": {
        "colab": {
          "base_uri": "https://localhost:8080/"
        },
        "id": "MBpAgHUTA-Dl",
        "outputId": "147d0d50-6e98-411f-e76b-a789bb80e229"
      },
      "execution_count": 14,
      "outputs": [
        {
          "output_type": "stream",
          "name": "stdout",
          "text": [
            "Number of days with nulls in DE: 47\n",
            "Number of days with nulls in FR: 47\n",
            "Number of common days with nulls in DE and FR: 47\n",
            "Common DAY_IDs with nulls: {130, 387, 262, 775, 11, 1037, 783, 1044, 278, 535, 282, 155, 538, 27, 1052, 677, 678, 679, 424, 809, 557, 815, 304, 561, 689, 1207, 1213, 957, 832, 73, 74, 330, 336, 725, 1111, 345, 859, 96, 98, 355, 739, 497, 1011, 500, 887, 253, 767}\n"
          ]
        },
        {
          "output_type": "stream",
          "name": "stderr",
          "text": [
            "<ipython-input-14-c99a57f0fb2a>:7: FutureWarning: The series.append method is deprecated and will be removed from pandas in a future version. Use pandas.concat instead.\n",
            "  null_de_days = pd.unique(null_de_temp.append(null_de_rain).append(null_de_wind))\n",
            "<ipython-input-14-c99a57f0fb2a>:7: FutureWarning: The series.append method is deprecated and will be removed from pandas in a future version. Use pandas.concat instead.\n",
            "  null_de_days = pd.unique(null_de_temp.append(null_de_rain).append(null_de_wind))\n",
            "<ipython-input-14-c99a57f0fb2a>:15: FutureWarning: The series.append method is deprecated and will be removed from pandas in a future version. Use pandas.concat instead.\n",
            "  null_fr_days = pd.unique(null_fr_temp.append(null_fr_rain).append(null_fr_wind))\n",
            "<ipython-input-14-c99a57f0fb2a>:15: FutureWarning: The series.append method is deprecated and will be removed from pandas in a future version. Use pandas.concat instead.\n",
            "  null_fr_days = pd.unique(null_fr_temp.append(null_fr_rain).append(null_fr_wind))\n"
          ]
        }
      ]
    },
    {
      "cell_type": "markdown",
      "source": [
        "## Imputation"
      ],
      "metadata": {
        "id": "s4gslNBLEpOd"
      }
    },
    {
      "cell_type": "code",
      "source": [
        "# List of weather-related columns that need imputation\n",
        "weather_columns = ['DE_RAIN', 'FR_RAIN', 'DE_WIND', 'FR_WIND', 'DE_TEMP', 'FR_TEMP']\n",
        "\n",
        "# Calculate the mean for each weather-related column by country and fill NaN values\n",
        "for column in weather_columns:\n",
        "    X_train[column] = X_train.groupby('COUNTRY')[column].transform(lambda x: x.fillna(x.mean()))\n"
      ],
      "metadata": {
        "id": "MXelMDBUEovh"
      },
      "execution_count": 15,
      "outputs": []
    },
    {
      "cell_type": "code",
      "source": [
        "print(X_train[weather_columns].isnull().sum())"
      ],
      "metadata": {
        "colab": {
          "base_uri": "https://localhost:8080/"
        },
        "id": "gAwGm6QhEzfh",
        "outputId": "ca613bd8-88ae-44af-9d66-60c0bb81aaac"
      },
      "execution_count": null,
      "outputs": [
        {
          "output_type": "stream",
          "name": "stdout",
          "text": [
            "DE_RAIN    0\n",
            "FR_RAIN    0\n",
            "DE_WIND    0\n",
            "FR_WIND    0\n",
            "DE_TEMP    0\n",
            "FR_TEMP    0\n",
            "dtype: int64\n"
          ]
        }
      ]
    },
    {
      "cell_type": "markdown",
      "source": [
        "## Correlation Matrix"
      ],
      "metadata": {
        "id": "86WdQpS3EPv7"
      }
    },
    {
      "cell_type": "code",
      "source": [
        "# Assuming your dataset is loaded into a DataFrame called X_train\n",
        "df_fr = X_train[X_train['COUNTRY'] == 'FR']\n",
        "df_de = X_train[X_train['COUNTRY'] == 'DE']\n"
      ],
      "metadata": {
        "id": "JRjUQ-N7EPc1"
      },
      "execution_count": null,
      "outputs": []
    },
    {
      "cell_type": "code",
      "source": [
        "# Calculate the correlation matrices\n",
        "corr_fr = df_fr.corr()\n",
        "corr_de = df_de.corr()\n",
        "corr_X_train = X_train.corr()\n"
      ],
      "metadata": {
        "colab": {
          "base_uri": "https://localhost:8080/"
        },
        "id": "OTig1KUGEWSR",
        "outputId": "7ea18e63-4107-4501-a8bb-38a94e6f4040"
      },
      "execution_count": null,
      "outputs": [
        {
          "output_type": "stream",
          "name": "stderr",
          "text": [
            "<ipython-input-43-3a9323595d31>:2: FutureWarning: The default value of numeric_only in DataFrame.corr is deprecated. In a future version, it will default to False. Select only valid columns or specify the value of numeric_only to silence this warning.\n",
            "  corr_fr = df_fr.corr()\n",
            "<ipython-input-43-3a9323595d31>:3: FutureWarning: The default value of numeric_only in DataFrame.corr is deprecated. In a future version, it will default to False. Select only valid columns or specify the value of numeric_only to silence this warning.\n",
            "  corr_de = df_de.corr()\n",
            "<ipython-input-43-3a9323595d31>:4: FutureWarning: The default value of numeric_only in DataFrame.corr is deprecated. In a future version, it will default to False. Select only valid columns or specify the value of numeric_only to silence this warning.\n",
            "  corr_X_train = X_train.corr()\n"
          ]
        }
      ]
    },
    {
      "cell_type": "code",
      "source": [
        "def get_top_correlations(corr_matrix, country_name, n=10):\n",
        "    # Create a mask to ignore self-correlation\n",
        "    mask = np.triu(np.ones_like(corr_matrix, dtype=bool))\n",
        "    corr_matrix_masked = corr_matrix.mask(mask)\n",
        "\n",
        "    # Stack the correlation matrix and reset its index to get pair of variables as a DataFrame\n",
        "    corr_stack = corr_matrix_masked.stack().reset_index()\n",
        "    corr_stack.columns = ['Variable 1', 'Variable 2', 'Correlation']\n",
        "\n",
        "    # Calculate absolute correlation values for sorting\n",
        "    corr_stack['Abs Correlation'] = corr_stack['Correlation'].abs()\n",
        "\n",
        "    # Sort by absolute correlation and take top n values\n",
        "    top_correlations = corr_stack.sort_values(by='Abs Correlation', ascending=False).head(n)\n",
        "\n",
        "    print(f\"Top {n} correlated pairs in {country_name}:\")\n",
        "    print(top_correlations[['Variable 1', 'Variable 2', 'Correlation']])\n",
        "    print(\"\\n\")\n",
        "\n",
        "# Apply the function to the correlation matrices for France and Germany\n",
        "get_top_correlations(corr_fr, 'France')\n",
        "get_top_correlations(corr_de, 'Germany')\n",
        "get_top_correlations(corr_X_train, 'Full training data')"
      ],
      "metadata": {
        "colab": {
          "base_uri": "https://localhost:8080/"
        },
        "id": "pxKmLJpVFF9m",
        "outputId": "64ac8e33-1acb-434a-a728-d5b5eaaa8f59"
      },
      "execution_count": null,
      "outputs": [
        {
          "output_type": "stream",
          "name": "stdout",
          "text": [
            "Top 10 correlated pairs in France:\n",
            "           Variable 1      Variable 2  Correlation\n",
            "34      DE_NET_IMPORT   DE_NET_EXPORT    -1.000000\n",
            "14     FR_DE_EXCHANGE  DE_FR_EXCHANGE    -1.000000\n",
            "43      FR_NET_IMPORT   FR_NET_EXPORT    -1.000000\n",
            "279  FR_RESIDUAL_LOAD  FR_CONSUMPTION     0.967214\n",
            "405           FR_WIND         DE_WIND     0.824854\n",
            "5      FR_CONSUMPTION  DE_CONSUMPTION     0.817513\n",
            "189          FR_SOLAR        DE_SOLAR     0.801795\n",
            "287  FR_RESIDUAL_LOAD          FR_GAS     0.791884\n",
            "58             FR_GAS  FR_CONSUMPTION     0.779585\n",
            "278  FR_RESIDUAL_LOAD  DE_CONSUMPTION     0.764470\n",
            "\n",
            "\n",
            "Top 10 correlated pairs in Germany:\n",
            "           Variable 1      Variable 2  Correlation\n",
            "34      DE_NET_IMPORT   DE_NET_EXPORT    -1.000000\n",
            "14     FR_DE_EXCHANGE  DE_FR_EXCHANGE    -1.000000\n",
            "43      FR_NET_IMPORT   FR_NET_EXPORT    -1.000000\n",
            "279  FR_RESIDUAL_LOAD  FR_CONSUMPTION     0.961762\n",
            "405           FR_WIND         DE_WIND     0.811393\n",
            "287  FR_RESIDUAL_LOAD          FR_GAS     0.808915\n",
            "5      FR_CONSUMPTION  DE_CONSUMPTION     0.807458\n",
            "189          FR_SOLAR        DE_SOLAR     0.804548\n",
            "58             FR_GAS  FR_CONSUMPTION     0.783963\n",
            "198        DE_WINDPOW   DE_NET_IMPORT    -0.777975\n",
            "\n",
            "\n",
            "Top 10 correlated pairs in Full training data:\n",
            "           Variable 1      Variable 2  Correlation\n",
            "34      DE_NET_IMPORT   DE_NET_EXPORT    -1.000000\n",
            "43      FR_NET_IMPORT   FR_NET_EXPORT    -1.000000\n",
            "14     FR_DE_EXCHANGE  DE_FR_EXCHANGE    -1.000000\n",
            "279  FR_RESIDUAL_LOAD  FR_CONSUMPTION     0.965086\n",
            "405           FR_WIND         DE_WIND     0.820860\n",
            "5      FR_CONSUMPTION  DE_CONSUMPTION     0.813202\n",
            "189          FR_SOLAR        DE_SOLAR     0.803381\n",
            "287  FR_RESIDUAL_LOAD          FR_GAS     0.795914\n",
            "58             FR_GAS  FR_CONSUMPTION     0.779727\n",
            "196        DE_WINDPOW   DE_NET_EXPORT     0.763398\n",
            "\n",
            "\n"
          ]
        }
      ]
    },
    {
      "cell_type": "markdown",
      "source": [
        "This shows us that there are pais in the data with perfect negative correslation and imples data redundancy. For our analysis we can choose to use only one value per pair from the set of pairs.\n",
        "\n",
        "To calculate the 20 most correlated featues exculding the perfectly correlated ones the code to execute is below"
      ],
      "metadata": {
        "id": "3RmUrAOdF8s3"
      }
    },
    {
      "cell_type": "code",
      "source": [
        "def get_top_correlations(corr_matrix, country_name, n=20):\n",
        "    \"\"\"\n",
        "    This function prints the top n correlated pairs of variables for a given country,\n",
        "    excluding perfect correlations (1 or -1).\n",
        "    \"\"\"\n",
        "    # Mask to ignore the upper triangle and diagonal, thus excluding self-correlations\n",
        "    mask = np.triu(np.ones_like(corr_matrix, dtype=bool))\n",
        "    corr_matrix_masked = corr_matrix.mask(mask)\n",
        "\n",
        "    # Stack the correlation matrix and reset its index to get pair of variables as a DataFrame\n",
        "    corr_stack = corr_matrix_masked.stack().reset_index()\n",
        "    corr_stack.columns = ['Variable 1', 'Variable 2', 'Correlation']\n",
        "\n",
        "    # Exclude perfect correlations by filtering\n",
        "    corr_stack_filtered = corr_stack[(corr_stack['Correlation'].abs() < 1)]\n",
        "\n",
        "    # Calculate absolute correlation values for sorting\n",
        "    corr_stack_filtered['Abs Correlation'] = corr_stack_filtered['Correlation'].abs()\n",
        "\n",
        "    # Sort by absolute correlation and take top n values\n",
        "    top_correlations = corr_stack_filtered.sort_values(by='Abs Correlation', ascending=False).head(n)\n",
        "\n",
        "    print(f\"Top {n} correlated pairs in {country_name}, excluding perfect correlations:\")\n",
        "    print(top_correlations[['Variable 1', 'Variable 2', 'Correlation']])\n",
        "    print(\"\\n\")\n",
        "\n",
        "# Apply the function to the correlation matrices for France and Germany\n",
        "#get_top_correlations(corr_fr, 'France')\n",
        "#get_top_correlations(corr_de, 'Germany')\n",
        "get_top_correlations(corr_X_train, 'Full training Data')"
      ],
      "metadata": {
        "colab": {
          "base_uri": "https://localhost:8080/"
        },
        "id": "fttKjq-TF8CR",
        "outputId": "8a9a3a41-b2da-4705-ffee-5b9910127df9"
      },
      "execution_count": null,
      "outputs": [
        {
          "output_type": "stream",
          "name": "stdout",
          "text": [
            "Top 20 correlated pairs in Full training Data, excluding perfect correlations:\n",
            "           Variable 1      Variable 2  Correlation\n",
            "279  FR_RESIDUAL_LOAD  FR_CONSUMPTION     0.965086\n",
            "405           FR_WIND         DE_WIND     0.820860\n",
            "5      FR_CONSUMPTION  DE_CONSUMPTION     0.813202\n",
            "189          FR_SOLAR        DE_SOLAR     0.803381\n",
            "287  FR_RESIDUAL_LOAD          FR_GAS     0.795914\n",
            "58             FR_GAS  FR_CONSUMPTION     0.779727\n",
            "196        DE_WINDPOW   DE_NET_EXPORT     0.763398\n",
            "198        DE_WINDPOW   DE_NET_IMPORT    -0.763398\n",
            "278  FR_RESIDUAL_LOAD  DE_CONSUMPTION     0.754142\n",
            "243        DE_LIGNITE         DE_COAL     0.725934\n",
            "293  FR_RESIDUAL_LOAD      FR_NUCLEAR     0.717724\n",
            "263  DE_RESIDUAL_LOAD          DE_GAS     0.715224\n",
            "275  DE_RESIDUAL_LOAD      DE_LIGNITE     0.713916\n",
            "273  DE_RESIDUAL_LOAD      DE_WINDPOW    -0.705836\n",
            "139        FR_NUCLEAR  FR_CONSUMPTION     0.705734\n",
            "20      DE_NET_EXPORT  FR_DE_EXCHANGE    -0.703962\n",
            "32      DE_NET_IMPORT  DE_FR_EXCHANGE    -0.703962\n",
            "33      DE_NET_IMPORT  FR_DE_EXCHANGE     0.703962\n",
            "19      DE_NET_EXPORT  DE_FR_EXCHANGE     0.703962\n",
            "156          DE_SOLAR  FR_CONSUMPTION    -0.690640\n",
            "\n",
            "\n"
          ]
        },
        {
          "output_type": "stream",
          "name": "stderr",
          "text": [
            "<ipython-input-45-6f436626aac1>:18: SettingWithCopyWarning: \n",
            "A value is trying to be set on a copy of a slice from a DataFrame.\n",
            "Try using .loc[row_indexer,col_indexer] = value instead\n",
            "\n",
            "See the caveats in the documentation: https://pandas.pydata.org/pandas-docs/stable/user_guide/indexing.html#returning-a-view-versus-a-copy\n",
            "  corr_stack_filtered['Abs Correlation'] = corr_stack_filtered['Correlation'].abs()\n"
          ]
        }
      ]
    },
    {
      "cell_type": "code",
      "source": [
        "# Identify rows with null values in weather-related columns for DE\n",
        "null_de_temp = X_train[X_train['DE_TEMP'].isnull()]['DAY_ID']\n",
        "null_de_rain = X_train[X_train['DE_RAIN'].isnull()]['DAY_ID']\n",
        "null_de_wind = X_train[X_train['DE_WIND'].isnull()]['DAY_ID']\n",
        "\n",
        "# Combine and get unique DAY_IDs for DE\n",
        "null_de_days = pd.unique(null_de_temp.append(null_de_rain).append(null_de_wind))\n",
        "\n",
        "# Identify rows with null values in weather-related columns for FR\n",
        "null_fr_temp = X_train[X_train['FR_TEMP'].isnull()]['DAY_ID']\n",
        "null_fr_rain = X_train[X_train['FR_RAIN'].isnull()]['DAY_ID']\n",
        "null_fr_wind = X_train[X_train['FR_WIND'].isnull()]['DAY_ID']\n",
        "\n",
        "# Combine and get unique DAY_IDs for FR\n",
        "null_fr_days = pd.unique(null_fr_temp.append(null_fr_rain).append(null_fr_wind))\n",
        "\n",
        "# Check if the DAY_IDs with null values are the same for DE and FR\n",
        "common_null_days = set(null_de_days) & set(null_fr_days)\n",
        "\n",
        "# Print the results\n",
        "print(f\"Number of days with nulls in DE: {len(null_de_days)}\")\n",
        "print(f\"Number of days with nulls in FR: {len(null_fr_days)}\")\n",
        "print(f\"Number of common days with nulls in DE and FR: {len(common_null_days)}\")\n",
        "print(f\"Common DAY_IDs with nulls: {common_null_days}\")\n"
      ],
      "metadata": {
        "id": "CcwoN6JEAjmE"
      },
      "execution_count": null,
      "outputs": []
    },
    {
      "cell_type": "markdown",
      "source": [],
      "metadata": {
        "id": "Gi288WyrQ-z1"
      }
    },
    {
      "cell_type": "markdown",
      "metadata": {
        "id": "DehVedoq2Mpn"
      },
      "source": [
        "## Model and train score\n",
        "\n",
        "The benchark for this challenge consists in a simple linear regression, after a light cleaning of the data: The missing (NaN) values are simply filled with 0's and the `COUNTRY` column is dropped - namely we used the same model for France and Germany."
      ]
    },
    {
      "cell_type": "code",
      "source": [
        "from sklearn.preprocessing import LabelEncoder\n",
        "\n",
        "# Initialize the label encoder\n",
        "le = LabelEncoder()\n",
        "\n",
        "# Fit the label encoder and transform the 'COUNTRY' column to numeric\n",
        "X_train['COUNTRY'] = le.fit_transform(X_train['COUNTRY'])\n",
        "\n",
        "# Now the 'COUNTRY' column is encoded, and you can see the mapping of countries to integers\n",
        "country_mappings = {index: label for index, label in enumerate(le.classes_)}\n",
        "print(\"Country mappings:\", country_mappings)\n"
      ],
      "metadata": {
        "colab": {
          "base_uri": "https://localhost:8080/"
        },
        "id": "oXW1_EqaDCYZ",
        "outputId": "e9e9da3b-df79-41b5-f1cc-80f8c7a9221b"
      },
      "execution_count": null,
      "outputs": [
        {
          "output_type": "stream",
          "name": "stdout",
          "text": [
            "Country mappings: {0: 'DE', 1: 'FR'}\n"
          ]
        }
      ]
    },
    {
      "cell_type": "code",
      "source": [
        "X_train = X_train.drop(['ID','DAY_ID'], axis=1)"
      ],
      "metadata": {
        "id": "hz49HauKDliS"
      },
      "execution_count": null,
      "outputs": []
    },
    {
      "cell_type": "code",
      "source": [
        "columns_to_drop = ['DE_NET_IMPORT', 'FR_NET_IMPORT', 'FR_DE_EXCHANGE']\n",
        "\n",
        "# Drop these columns from your training data\n",
        "X_train_dropped_columns = X_train.drop(columns=columns_to_drop)"
      ],
      "metadata": {
        "id": "o7oHzJ-qcOtG"
      },
      "execution_count": null,
      "outputs": []
    },
    {
      "cell_type": "code",
      "source": [
        "# model without cleaning the data\n",
        "\n",
        "lr = LinearRegression()\n",
        "\n",
        "X_train_clean = X_train.fillna(0)\n",
        "Y_train_clean = Y_train['TARGET']\n",
        "\n",
        "lr.fit(X_train_clean, Y_train_clean)\n",
        "\n",
        "output_train = lr.predict(X_train_clean)\n",
        "\n",
        "def metric_train(output):\n",
        "\n",
        "    return  spearmanr(output, Y_train_clean).correlation\n",
        "\n",
        "print('Spearman correlation for the train set: {:.1f}%'.format(100 * metric_train(output_train) ))"
      ],
      "metadata": {
        "colab": {
          "base_uri": "https://localhost:8080/"
        },
        "id": "TNCoUQcmCj5b",
        "outputId": "9ff91189-fe54-4608-809d-a0b69a1f93b4"
      },
      "execution_count": null,
      "outputs": [
        {
          "output_type": "stream",
          "name": "stdout",
          "text": [
            "Spearman correlation for the train set: 27.9%\n"
          ]
        }
      ]
    },
    {
      "cell_type": "code",
      "source": [
        "from sklearn.linear_model import Ridge, Lasso, ElasticNet\n",
        "from scipy.stats import spearmanr"
      ],
      "metadata": {
        "id": "Vuvf8GFvaOz8"
      },
      "execution_count": null,
      "outputs": []
    },
    {
      "cell_type": "code",
      "source": [
        "# Prepare the data\n",
        "X_train_clean = X_train.fillna(0)\n",
        "Y_train_clean = Y_train['TARGET']\n",
        "\n",
        "# Initialize and fit the Ridge regression model\n",
        "ridge_reg = Ridge(alpha=1.0)  # alpha is the regularization strength\n",
        "ridge_reg.fit(X_train_clean, Y_train_clean)\n",
        "output_train_ridge = ridge_reg.predict(X_train_clean)\n",
        "\n",
        "# Initialize and fit the Lasso regression model\n",
        "lasso_reg = Lasso(alpha=0.1)  # alpha is the regularization strength\n",
        "lasso_reg.fit(X_train_clean, Y_train_clean)\n",
        "output_train_lasso = lasso_reg.predict(X_train_clean)\n",
        "\n",
        "# Initialize and fit the Elastic Net model\n",
        "elastic_net_reg = ElasticNet(alpha=0.1, l1_ratio=0.5)  # l1_ratio corresponds to the mix of L1/L2 regularization\n",
        "elastic_net_reg.fit(X_train_clean, Y_train_clean)\n",
        "output_train_elastic = elastic_net_reg.predict(X_train_clean)\n",
        "\n",
        "# Function to calculate Spearman correlation\n",
        "def metric_train(output, true_values):\n",
        "    return spearmanr(output, true_values).correlation\n",
        "\n",
        "# Print Spearman correlation for the train set for each model\n",
        "print('Spearman correlation for the Ridge Regression train set: {:.1f}%'.format(100 * metric_train(output_train_ridge, Y_train_clean)))\n",
        "print('Spearman correlation for the Lasso Regression train set: {:.1f}%'.format(100 * metric_train(output_train_lasso, Y_train_clean)))\n",
        "print('Spearman correlation for the Elastic Net train set: {:.1f}%'.format(100 * metric_train(output_train_elastic, Y_train_clean)))\n"
      ],
      "metadata": {
        "colab": {
          "base_uri": "https://localhost:8080/"
        },
        "id": "0S51rPryZud1",
        "outputId": "10b4f279-e983-4ccf-e63f-e69a58e67089"
      },
      "execution_count": null,
      "outputs": [
        {
          "output_type": "stream",
          "name": "stdout",
          "text": [
            "Spearman correlation for the Ridge Regression train set: 27.9%\n",
            "Spearman correlation for the Lasso Regression train set: 19.8%\n",
            "Spearman correlation for the Elastic Net train set: 21.6%\n"
          ]
        }
      ]
    },
    {
      "cell_type": "code",
      "source": [
        "#Fine tuning these models\n",
        "\n",
        "from sklearn.model_selection import GridSearchCV\n",
        "\n",
        "# Define a set of values for the alpha parameter\n",
        "alpha_grid = {'alpha': [1e-3, 1e-2, 1e-1, 1, 10, 100]}\n",
        "\n",
        "# Initialize the models\n",
        "ridge = Ridge()\n",
        "lasso = Lasso()\n",
        "\n",
        "# Initialize GridSearchCV\n",
        "grid_search_ridge = GridSearchCV(estimator=ridge, param_grid=alpha_grid, scoring='neg_mean_squared_error', cv=5)\n",
        "grid_search_lasso = GridSearchCV(estimator=lasso, param_grid=alpha_grid, scoring='neg_mean_squared_error', cv=5)\n",
        "\n",
        "# Fit the models\n",
        "grid_search_ridge.fit(X_train_clean, Y_train_clean)\n",
        "grid_search_lasso.fit(X_train_clean, Y_train_clean)\n",
        "\n",
        "# Get the best alpha value\n",
        "best_alpha_ridge = grid_search_ridge.best_params_['alpha']\n",
        "best_alpha_lasso = grid_search_lasso.best_params_['alpha']\n",
        "\n",
        "print(f\"Best alpha for Ridge: {best_alpha_ridge}\")\n",
        "print(f\"Best alpha for Lasso: {best_alpha_lasso}\")\n",
        "\n",
        "# Train the models with the best alpha values\n",
        "ridge_reg = Ridge(alpha=best_alpha_ridge)\n",
        "lasso_reg = Lasso(alpha=best_alpha_lasso)\n",
        "\n",
        "ridge_reg.fit(X_train_clean, Y_train_clean)\n",
        "lasso_reg.fit(X_train_clean, Y_train_clean)\n",
        "\n",
        "# Make predictions\n",
        "output_train_ridge = ridge_reg.predict(X_train_clean)\n",
        "output_train_lasso = lasso_reg.predict(X_train_clean)\n",
        "\n",
        "# Print Spearman correlation for the train set\n",
        "print('Spearman correlation for the tuned Ridge Regression train set: {:.2f}'.format(metric_train(output_train_ridge, Y_train_clean)))\n",
        "print('Spearman correlation for the tuned Lasso Regression train set: {:.2f}'.format(metric_train(output_train_lasso, Y_train_clean)))\n"
      ],
      "metadata": {
        "colab": {
          "base_uri": "https://localhost:8080/"
        },
        "id": "uXNZtfECbFxZ",
        "outputId": "aa06d6bf-40b2-4f56-cc7e-ebcd74522014"
      },
      "execution_count": null,
      "outputs": [
        {
          "output_type": "stream",
          "name": "stdout",
          "text": [
            "Best alpha for Ridge: 100\n",
            "Best alpha for Lasso: 0.01\n",
            "Spearman correlation for the tuned Ridge Regression train set: 0.28\n",
            "Spearman correlation for the tuned Lasso Regression train set: 0.27\n"
          ]
        }
      ]
    },
    {
      "cell_type": "code",
      "source": [
        "# Define a grid for Elastic Net parameters\n",
        "elastic_net_grid = {'alpha': [1e-3, 1e-2, 1e-1, 1, 10, 100],\n",
        "                    'l1_ratio': [0.2, 0.4, 0.6, 0.8]}\n",
        "\n",
        "# Initialize the model\n",
        "elastic_net = ElasticNet()\n",
        "\n",
        "# Initialize GridSearchCV\n",
        "grid_search_elastic_net = GridSearchCV(estimator=elastic_net, param_grid=elastic_net_grid, scoring='neg_mean_squared_error', cv=5)\n",
        "\n",
        "# Fit the model\n",
        "grid_search_elastic_net.fit(X_train_clean, Y_train_clean)\n",
        "\n",
        "# Get the best parameters\n",
        "best_params_elastic_net = grid_search_elastic_net.best_params_\n",
        "\n",
        "print(f\"Best parameters for Elastic Net: {best_params_elastic_net}\")\n",
        "\n",
        "# Train the model with the best parameters\n",
        "elastic_net_reg = ElasticNet(alpha=best_params_elastic_net['alpha'], l1_ratio=best_params_elastic_net['l1_ratio'])\n",
        "elastic_net_reg.fit(X_train_clean, Y_train_clean)\n",
        "\n",
        "# Make predictions\n",
        "output_train_elastic_net = elastic_net_reg.predict(X_train_clean)\n",
        "\n",
        "# Print Spearman correlation for the train set\n",
        "print('Spearman correlation for the tuned Elastic Net train set: {:.2f}'.format(metric_train(output_train_elastic_net, Y_train_clean)))\n"
      ],
      "metadata": {
        "colab": {
          "base_uri": "https://localhost:8080/"
        },
        "id": "zrBMw3JHbNfo",
        "outputId": "1dc5a9e3-d4d3-45a6-a770-29cd84ee3510"
      },
      "execution_count": null,
      "outputs": [
        {
          "output_type": "stream",
          "name": "stderr",
          "text": [
            "/usr/local/lib/python3.10/dist-packages/sklearn/linear_model/_coordinate_descent.py:631: ConvergenceWarning: Objective did not converge. You might want to increase the number of iterations, check the scale of the features or consider increasing regularisation. Duality gap: 7.618e-01, tolerance: 1.250e-01\n",
            "  model = cd_fast.enet_coordinate_descent(\n",
            "/usr/local/lib/python3.10/dist-packages/sklearn/linear_model/_coordinate_descent.py:631: ConvergenceWarning: Objective did not converge. You might want to increase the number of iterations, check the scale of the features or consider increasing regularisation. Duality gap: 9.022e+00, tolerance: 1.349e-01\n",
            "  model = cd_fast.enet_coordinate_descent(\n",
            "/usr/local/lib/python3.10/dist-packages/sklearn/linear_model/_coordinate_descent.py:631: ConvergenceWarning: Objective did not converge. You might want to increase the number of iterations, check the scale of the features or consider increasing regularisation. Duality gap: 1.158e+01, tolerance: 1.262e-01\n",
            "  model = cd_fast.enet_coordinate_descent(\n",
            "/usr/local/lib/python3.10/dist-packages/sklearn/linear_model/_coordinate_descent.py:631: ConvergenceWarning: Objective did not converge. You might want to increase the number of iterations, check the scale of the features or consider increasing regularisation. Duality gap: 4.392e-01, tolerance: 1.346e-01\n",
            "  model = cd_fast.enet_coordinate_descent(\n",
            "/usr/local/lib/python3.10/dist-packages/sklearn/linear_model/_coordinate_descent.py:631: ConvergenceWarning: Objective did not converge. You might want to increase the number of iterations, check the scale of the features or consider increasing regularisation. Duality gap: 1.727e-01, tolerance: 1.250e-01\n",
            "  model = cd_fast.enet_coordinate_descent(\n",
            "/usr/local/lib/python3.10/dist-packages/sklearn/linear_model/_coordinate_descent.py:631: ConvergenceWarning: Objective did not converge. You might want to increase the number of iterations, check the scale of the features or consider increasing regularisation. Duality gap: 6.665e+00, tolerance: 1.262e-01\n",
            "  model = cd_fast.enet_coordinate_descent(\n",
            "/usr/local/lib/python3.10/dist-packages/sklearn/linear_model/_coordinate_descent.py:631: ConvergenceWarning: Objective did not converge. You might want to increase the number of iterations, check the scale of the features or consider increasing regularisation. Duality gap: 1.700e-01, tolerance: 1.346e-01\n",
            "  model = cd_fast.enet_coordinate_descent(\n",
            "/usr/local/lib/python3.10/dist-packages/sklearn/linear_model/_coordinate_descent.py:631: ConvergenceWarning: Objective did not converge. You might want to increase the number of iterations, check the scale of the features or consider increasing regularisation. Duality gap: 6.579e+00, tolerance: 1.262e-01\n",
            "  model = cd_fast.enet_coordinate_descent(\n",
            "/usr/local/lib/python3.10/dist-packages/sklearn/linear_model/_coordinate_descent.py:631: ConvergenceWarning: Objective did not converge. You might want to increase the number of iterations, check the scale of the features or consider increasing regularisation. Duality gap: 2.340e-01, tolerance: 1.346e-01\n",
            "  model = cd_fast.enet_coordinate_descent(\n",
            "/usr/local/lib/python3.10/dist-packages/sklearn/linear_model/_coordinate_descent.py:631: ConvergenceWarning: Objective did not converge. You might want to increase the number of iterations, check the scale of the features or consider increasing regularisation. Duality gap: 5.578e-01, tolerance: 1.346e-01\n",
            "  model = cd_fast.enet_coordinate_descent(\n"
          ]
        },
        {
          "output_type": "stream",
          "name": "stdout",
          "text": [
            "Best parameters for Elastic Net: {'alpha': 0.01, 'l1_ratio': 0.8}\n",
            "Spearman correlation for the tuned Elastic Net train set: 0.27\n"
          ]
        }
      ]
    },
    {
      "cell_type": "code",
      "source": [
        "from sklearn.ensemble import StackingRegressor\n",
        "from sklearn.pipeline import make_pipeline\n",
        "from sklearn.preprocessing import StandardScaler\n",
        "from sklearn.model_selection import train_test_split\n",
        "\n",
        "# Define the base models\n",
        "estimators = [\n",
        "    ('ridge', make_pipeline(StandardScaler(), Ridge(alpha=best_alpha_ridge))),\n",
        "    ('lasso', make_pipeline(StandardScaler(), Lasso(alpha=best_alpha_lasso))),\n",
        "    ('elastic_net', make_pipeline(StandardScaler(), ElasticNet(alpha=best_params_elastic_net['alpha'], l1_ratio=best_params_elastic_net['l1_ratio'])))\n",
        "]\n",
        "\n",
        "# Initialize the StackingRegressor\n",
        "stack_reg = StackingRegressor(\n",
        "    estimators=estimators,\n",
        "    final_estimator=Ridge(alpha=best_alpha_ridge)\n",
        ")\n",
        "\n",
        "# Split the dataset into training and testing to evaluate performance\n",
        "X_train_part, X_test_part, Y_train_part, Y_test_part = train_test_split(X_train_clean, Y_train_clean, test_size=0.2, random_state=42)\n",
        "\n",
        "# Fit the stacking model\n",
        "stack_reg.fit(X_train_part, Y_train_part)\n",
        "\n",
        "# Predict on the test set\n",
        "stack_pred = stack_reg.predict(X_test_part)\n",
        "\n",
        "# Evaluate with Spearman correlation\n",
        "spearman_corr_stack = spearmanr(Y_test_part, stack_pred).correlation\n",
        "print(f'Spearman correlation for the stacking ensemble: {spearman_corr_stack:.2f}')\n"
      ],
      "metadata": {
        "colab": {
          "base_uri": "https://localhost:8080/"
        },
        "id": "4_XdJJZgdbJx",
        "outputId": "7a7e6119-47ed-4a69-e5eb-2419118ecc41"
      },
      "execution_count": null,
      "outputs": [
        {
          "output_type": "stream",
          "name": "stdout",
          "text": [
            "Spearman correlation for the stacking ensemble: 0.22\n"
          ]
        }
      ]
    },
    {
      "cell_type": "code",
      "source": [
        "# Random Forest"
      ],
      "metadata": {
        "id": "rOdm3eGyfe2A"
      },
      "execution_count": null,
      "outputs": []
    },
    {
      "cell_type": "code",
      "source": [
        "from sklearn.ensemble import RandomForestRegressor\n",
        "from sklearn.metrics import mean_squared_error\n",
        "from scipy.stats import spearmanr"
      ],
      "metadata": {
        "id": "J7Z8mOwsfhc_"
      },
      "execution_count": null,
      "outputs": []
    },
    {
      "cell_type": "code",
      "source": [
        "X_train_clean = X_train.dropna()\n",
        "Y_train_clean = Y_train.loc[X_train_clean.index, 'TARGET']"
      ],
      "metadata": {
        "id": "_J3d6YDkjx3w"
      },
      "execution_count": null,
      "outputs": []
    },
    {
      "cell_type": "code",
      "source": [
        "# Initialize the Random Forest Regressor\n",
        "random_forest_reg = RandomForestRegressor(n_estimators=100, random_state=42, n_jobs=-1)\n",
        "\n",
        "# Fit the model on your training data\n",
        "random_forest_reg.fit(X_train_clean, Y_train_clean)\n",
        "\n",
        "# Predict on the training set to evaluate performance\n",
        "rf_pred_train = random_forest_reg.predict(X_train_clean)\n",
        "\n",
        "# Calculate Spearman correlation\n",
        "spearman_corr_rf = spearmanr(Y_train_clean, rf_pred_train).correlation\n",
        "print(f'Spearman correlation for the Random Forest on the training set: {spearman_corr_rf:.2f}')"
      ],
      "metadata": {
        "colab": {
          "base_uri": "https://localhost:8080/"
        },
        "id": "x808cNZAfkxu",
        "outputId": "551b3a10-4dc0-4a86-8de1-18ca6c545807"
      },
      "execution_count": null,
      "outputs": [
        {
          "output_type": "stream",
          "name": "stdout",
          "text": [
            "Spearman correlation for the Random Forest on the training set: 0.88\n"
          ]
        }
      ]
    },
    {
      "cell_type": "code",
      "source": [
        "from sklearn.model_selection import RandomizedSearchCV\n",
        "\n",
        "# Define the parameter grid\n",
        "param_dist = {\n",
        "    'n_estimators': [100, 200, 300, 400, 500],\n",
        "    'max_depth': [None, 10, 20, 30, 40, 50],\n",
        "    'min_samples_split': [2, 5, 10],\n",
        "    'min_samples_leaf': [1, 2, 4]\n",
        "}\n",
        "\n",
        "# Initialize the Randomized Search\n",
        "random_search = RandomizedSearchCV(random_forest_reg, param_distributions=param_dist, n_iter=10, cv=5, verbose=1, random_state=42, n_jobs=-1)\n",
        "\n",
        "# Fit the Randomized Search\n",
        "random_search.fit(X_train_clean, Y_train_clean)\n",
        "\n",
        "# Best parameters\n",
        "print(\"Best Parameters:\", random_search.best_params_)\n",
        "\n",
        "# Best model\n",
        "best_rf_model = random_search.best_estimator_\n",
        "\n",
        "# Predict and evaluate\n",
        "rf_pred_best = best_rf_model.predict(X_train_clean)\n",
        "spearman_corr_rf_best = spearmanr(Y_train_clean, rf_pred_best).correlation\n",
        "print(f'Improved Spearman correlation for the Random Forest with best parameters: {spearman_corr_rf_best:.2f}')\n"
      ],
      "metadata": {
        "colab": {
          "base_uri": "https://localhost:8080/"
        },
        "id": "DQDgLT0MfmkO",
        "outputId": "da2f1d77-4df5-4185-df41-aec319577087"
      },
      "execution_count": null,
      "outputs": [
        {
          "output_type": "stream",
          "name": "stdout",
          "text": [
            "Fitting 5 folds for each of 10 candidates, totalling 50 fits\n",
            "Best Parameters: {'n_estimators': 500, 'min_samples_split': 2, 'min_samples_leaf': 4, 'max_depth': 10}\n",
            "Improved Spearman correlation for the Random Forest with best parameters: 0.60\n"
          ]
        }
      ]
    },
    {
      "cell_type": "code",
      "source": [
        "import xgboost as xgb\n",
        "from sklearn.model_selection import train_test_split\n",
        "from sklearn.metrics import mean_squared_error\n",
        "\n",
        "# Prepare the data\n",
        "# Assuming X_train is your feature set and Y_train['TARGET'] is the target variable\n",
        "#X = X_train.drop(['ID', 'DAY_ID'], axis=1)  # Drop non-predictive columns\n",
        "X = X_train\n",
        "y = Y_train['TARGET']\n",
        "\n",
        "# Split the data into training and testing sets\n",
        "X_train_set, X_test_set, y_train_set, y_test_set = train_test_split(X, y, test_size=0.2, random_state=42)\n",
        "\n",
        "# Initialize the XGBoost regressor\n",
        "xg_reg = xgb.XGBRegressor(objective ='reg:squarederror', colsample_bytree = 0.3, learning_rate = 0.1,\n",
        "                          max_depth = 5, alpha = 10, n_estimators = 10)\n",
        "\n",
        "# Fit the regressor to the training set\n",
        "xg_reg.fit(X_train_set, y_train_set)\n",
        "\n",
        "# Predict on the test set\n",
        "y_pred = xg_reg.predict(X_test_set)\n",
        "\n",
        "def metric_train(output):\n",
        "\n",
        "    return  spearmanr(output, y_test_set).correlation\n",
        "\n",
        "print('Spearman correlation for the train set: {:.1f}%'.format(100 * metric_train(y_pred) ))\n"
      ],
      "metadata": {
        "colab": {
          "base_uri": "https://localhost:8080/"
        },
        "id": "sWIbp1laGGXy",
        "outputId": "cd728187-41f8-4f2f-95df-0d4c78512a39"
      },
      "execution_count": null,
      "outputs": [
        {
          "output_type": "stream",
          "name": "stdout",
          "text": [
            "Spearman correlation for the train set: 22.2%\n"
          ]
        }
      ]
    },
    {
      "cell_type": "code",
      "execution_count": null,
      "metadata": {
        "id": "tLQXAIrz2Mpn",
        "outputId": "30e970e4-eaab-4bca-faee-b7c1ed01ae20"
      },
      "outputs": [
        {
          "name": "stdout",
          "output_type": "stream",
          "text": [
            "Spearman correlation for the train set: 27.9%\n"
          ]
        }
      ],
      "source": [
        "lr = LinearRegression()\n",
        "\n",
        "X_train_clean = X_train.drop(['COUNTRY'], axis=1).fillna(0)\n",
        "Y_train_clean = Y_train['TARGET']\n",
        "\n",
        "lr.fit(X_train_clean, Y_train_clean)\n",
        "\n",
        "output_train = lr.predict(X_train_clean)\n",
        "\n",
        "def metric_train(output):\n",
        "\n",
        "    return  spearmanr(output, Y_train_clean).correlation\n",
        "\n",
        "print('Spearman correlation for the train set: {:.1f}%'.format(100 * metric_train(output_train) ))"
      ]
    },
    {
      "cell_type": "markdown",
      "metadata": {
        "id": "XIcIIr-I2Mpo"
      },
      "source": [
        "The Spearman correlation obtained with our model on the train data set is about 27.9%.\n",
        "\n",
        "NB: Electricity price variations can be quite volatile and this is why we have chosen the Spearman rank correlation as a robust metric for the challenge, instead of the more standard Pearson correlation."
      ]
    },
    {
      "cell_type": "markdown",
      "metadata": {
        "id": "ypCCwq5A2Mpp"
      },
      "source": [
        "## Generate the benchmark output\n",
        "\n",
        "Next, we process the test set the same way as we did on the train set and predict using our linear model, while saving the predictions to a csv file satisfying the challenge output contraints.\n"
      ]
    },
    {
      "cell_type": "code",
      "execution_count": null,
      "metadata": {
        "id": "ja_9I3Ct2Mpq",
        "outputId": "e47aeda8-1519-4cea-9b79-403a8a57d04a"
      },
      "outputs": [
        {
          "data": {
            "text/html": [
              "<div>\n",
              "<style scoped>\n",
              "    .dataframe tbody tr th:only-of-type {\n",
              "        vertical-align: middle;\n",
              "    }\n",
              "\n",
              "    .dataframe tbody tr th {\n",
              "        vertical-align: top;\n",
              "    }\n",
              "\n",
              "    .dataframe thead th {\n",
              "        text-align: right;\n",
              "    }\n",
              "</style>\n",
              "<table border=\"1\" class=\"dataframe\">\n",
              "  <thead>\n",
              "    <tr style=\"text-align: right;\">\n",
              "      <th></th>\n",
              "      <th>ID</th>\n",
              "      <th>DAY_ID</th>\n",
              "      <th>COUNTRY</th>\n",
              "      <th>DE_CONSUMPTION</th>\n",
              "      <th>FR_CONSUMPTION</th>\n",
              "      <th>DE_FR_EXCHANGE</th>\n",
              "      <th>FR_DE_EXCHANGE</th>\n",
              "      <th>DE_NET_EXPORT</th>\n",
              "      <th>FR_NET_EXPORT</th>\n",
              "      <th>DE_NET_IMPORT</th>\n",
              "      <th>...</th>\n",
              "      <th>FR_RESIDUAL_LOAD</th>\n",
              "      <th>DE_RAIN</th>\n",
              "      <th>FR_RAIN</th>\n",
              "      <th>DE_WIND</th>\n",
              "      <th>FR_WIND</th>\n",
              "      <th>DE_TEMP</th>\n",
              "      <th>FR_TEMP</th>\n",
              "      <th>GAS_RET</th>\n",
              "      <th>COAL_RET</th>\n",
              "      <th>CARBON_RET</th>\n",
              "    </tr>\n",
              "  </thead>\n",
              "  <tbody>\n",
              "    <tr>\n",
              "      <th>0</th>\n",
              "      <td>2136</td>\n",
              "      <td>524</td>\n",
              "      <td>FR</td>\n",
              "      <td>0.334263</td>\n",
              "      <td>-0.281509</td>\n",
              "      <td>1.042173</td>\n",
              "      <td>-1.042173</td>\n",
              "      <td>0.716838</td>\n",
              "      <td>-1.282216</td>\n",
              "      <td>-0.716838</td>\n",
              "      <td>...</td>\n",
              "      <td>-0.340008</td>\n",
              "      <td>-0.098752</td>\n",
              "      <td>-0.170879</td>\n",
              "      <td>1.020837</td>\n",
              "      <td>1.100871</td>\n",
              "      <td>0.055794</td>\n",
              "      <td>0.286185</td>\n",
              "      <td>1.485898</td>\n",
              "      <td>-0.267464</td>\n",
              "      <td>1.951327</td>\n",
              "    </tr>\n",
              "    <tr>\n",
              "      <th>1</th>\n",
              "      <td>900</td>\n",
              "      <td>728</td>\n",
              "      <td>DE</td>\n",
              "      <td>0.171956</td>\n",
              "      <td>-0.879758</td>\n",
              "      <td>0.912230</td>\n",
              "      <td>-0.912230</td>\n",
              "      <td>0.315475</td>\n",
              "      <td>-1.506543</td>\n",
              "      <td>-0.315475</td>\n",
              "      <td>...</td>\n",
              "      <td>-0.987289</td>\n",
              "      <td>0.789124</td>\n",
              "      <td>1.422063</td>\n",
              "      <td>0.474978</td>\n",
              "      <td>0.827341</td>\n",
              "      <td>1.544394</td>\n",
              "      <td>1.559351</td>\n",
              "      <td>-0.427837</td>\n",
              "      <td>-0.264420</td>\n",
              "      <td>-1.473669</td>\n",
              "    </tr>\n",
              "    <tr>\n",
              "      <th>2</th>\n",
              "      <td>375</td>\n",
              "      <td>84</td>\n",
              "      <td>DE</td>\n",
              "      <td>0.195331</td>\n",
              "      <td>-0.427774</td>\n",
              "      <td>-0.535792</td>\n",
              "      <td>0.535792</td>\n",
              "      <td>-0.927339</td>\n",
              "      <td>-0.304559</td>\n",
              "      <td>0.927339</td>\n",
              "      <td>...</td>\n",
              "      <td>-0.416412</td>\n",
              "      <td>-0.539948</td>\n",
              "      <td>-0.430405</td>\n",
              "      <td>-0.967479</td>\n",
              "      <td>-0.655789</td>\n",
              "      <td>0.160769</td>\n",
              "      <td>-0.240024</td>\n",
              "      <td>0.438932</td>\n",
              "      <td>0.163146</td>\n",
              "      <td>-0.454476</td>\n",
              "    </tr>\n",
              "    <tr>\n",
              "      <th>3</th>\n",
              "      <td>43</td>\n",
              "      <td>352</td>\n",
              "      <td>DE</td>\n",
              "      <td>0.393072</td>\n",
              "      <td>-0.507126</td>\n",
              "      <td>-1.378073</td>\n",
              "      <td>1.378073</td>\n",
              "      <td>-1.664931</td>\n",
              "      <td>1.349263</td>\n",
              "      <td>1.664931</td>\n",
              "      <td>...</td>\n",
              "      <td>-0.505793</td>\n",
              "      <td>5.623228</td>\n",
              "      <td>-2.046479</td>\n",
              "      <td>-0.537130</td>\n",
              "      <td>-0.781634</td>\n",
              "      <td>0.490128</td>\n",
              "      <td>-1.689460</td>\n",
              "      <td>-1.143164</td>\n",
              "      <td>-0.228964</td>\n",
              "      <td>-0.181086</td>\n",
              "    </tr>\n",
              "    <tr>\n",
              "      <th>4</th>\n",
              "      <td>504</td>\n",
              "      <td>24</td>\n",
              "      <td>DE</td>\n",
              "      <td>0.143362</td>\n",
              "      <td>-0.524899</td>\n",
              "      <td>-1.030414</td>\n",
              "      <td>1.030414</td>\n",
              "      <td>-1.005184</td>\n",
              "      <td>0.832404</td>\n",
              "      <td>1.005184</td>\n",
              "      <td>...</td>\n",
              "      <td>-0.635998</td>\n",
              "      <td>NaN</td>\n",
              "      <td>NaN</td>\n",
              "      <td>NaN</td>\n",
              "      <td>NaN</td>\n",
              "      <td>NaN</td>\n",
              "      <td>NaN</td>\n",
              "      <td>0.232096</td>\n",
              "      <td>-0.078845</td>\n",
              "      <td>0.190155</td>\n",
              "    </tr>\n",
              "  </tbody>\n",
              "</table>\n",
              "<p>5 rows × 35 columns</p>\n",
              "</div>"
            ],
            "text/plain": [
              "     ID  DAY_ID COUNTRY  DE_CONSUMPTION  FR_CONSUMPTION  DE_FR_EXCHANGE  \\\n",
              "0  2136     524      FR        0.334263       -0.281509        1.042173   \n",
              "1   900     728      DE        0.171956       -0.879758        0.912230   \n",
              "2   375      84      DE        0.195331       -0.427774       -0.535792   \n",
              "3    43     352      DE        0.393072       -0.507126       -1.378073   \n",
              "4   504      24      DE        0.143362       -0.524899       -1.030414   \n",
              "\n",
              "   FR_DE_EXCHANGE  DE_NET_EXPORT  FR_NET_EXPORT  DE_NET_IMPORT  ...  \\\n",
              "0       -1.042173       0.716838      -1.282216      -0.716838  ...   \n",
              "1       -0.912230       0.315475      -1.506543      -0.315475  ...   \n",
              "2        0.535792      -0.927339      -0.304559       0.927339  ...   \n",
              "3        1.378073      -1.664931       1.349263       1.664931  ...   \n",
              "4        1.030414      -1.005184       0.832404       1.005184  ...   \n",
              "\n",
              "   FR_RESIDUAL_LOAD   DE_RAIN   FR_RAIN   DE_WIND   FR_WIND   DE_TEMP  \\\n",
              "0         -0.340008 -0.098752 -0.170879  1.020837  1.100871  0.055794   \n",
              "1         -0.987289  0.789124  1.422063  0.474978  0.827341  1.544394   \n",
              "2         -0.416412 -0.539948 -0.430405 -0.967479 -0.655789  0.160769   \n",
              "3         -0.505793  5.623228 -2.046479 -0.537130 -0.781634  0.490128   \n",
              "4         -0.635998       NaN       NaN       NaN       NaN       NaN   \n",
              "\n",
              "    FR_TEMP   GAS_RET  COAL_RET  CARBON_RET  \n",
              "0  0.286185  1.485898 -0.267464    1.951327  \n",
              "1  1.559351 -0.427837 -0.264420   -1.473669  \n",
              "2 -0.240024  0.438932  0.163146   -0.454476  \n",
              "3 -1.689460 -1.143164 -0.228964   -0.181086  \n",
              "4       NaN  0.232096 -0.078845    0.190155  \n",
              "\n",
              "[5 rows x 35 columns]"
            ]
          },
          "execution_count": 17,
          "metadata": {},
          "output_type": "execute_result"
        }
      ],
      "source": [
        "X_test.head()"
      ]
    },
    {
      "cell_type": "code",
      "execution_count": null,
      "metadata": {
        "id": "EFBXavPY2Mpr"
      },
      "outputs": [],
      "source": [
        "X_test_clean = X_test.drop(['COUNTRY'], axis=1).fillna(0)\n",
        "\n",
        "Y_test_submission = X_test[['ID']].copy()\n",
        "Y_test_submission['TARGET'] = lr.predict(X_test_clean)\n",
        "\n",
        "Y_test_submission.to_csv('benchmark_qrt.csv', index=False)\n"
      ]
    },
    {
      "cell_type": "markdown",
      "metadata": {
        "id": "sn45PdA32Mpr"
      },
      "source": [
        "After submitting this benchmark_qrt.csv file at https://challengedata.ens.fr, we obtain a public score of around 15.9 % - this is the score to beat!\n"
      ]
    },
    {
      "cell_type": "markdown",
      "metadata": {
        "id": "kdb-2OgK2Mpr"
      },
      "source": [
        "## Tips and ideas for improvements\n",
        "\n",
        "- Thinking about the fundamental price drivers of electricity in each country may be useful.\n",
        "\n",
        "- The dataset is small, so you will need to be careful not to overfit your models. It will be useful to use good crossvalidation practices.\n"
      ]
    },
    {
      "cell_type": "markdown",
      "metadata": {
        "id": "ypj608SR2Mps"
      },
      "source": []
    }
  ],
  "metadata": {
    "hide_input": false,
    "kernelspec": {
      "display_name": "Python 3.9.7",
      "language": "python",
      "name": "python3"
    },
    "language_info": {
      "codemirror_mode": {
        "name": "ipython",
        "version": 3
      },
      "file_extension": ".py",
      "mimetype": "text/x-python",
      "name": "python",
      "nbconvert_exporter": "python",
      "pygments_lexer": "ipython3",
      "version": "3.9.7"
    },
    "toc": {
      "base_numbering": 1,
      "nav_menu": {},
      "number_sections": true,
      "sideBar": true,
      "skip_h1_title": false,
      "title_cell": "Table of Contents",
      "title_sidebar": "Contents",
      "toc_cell": false,
      "toc_position": {},
      "toc_section_display": true,
      "toc_window_display": false
    },
    "vscode": {
      "interpreter": {
        "hash": "b000d5dfd48d5cfb646e041a58bba0acd5058d1ce315302d38314cb1a7d1b0d6"
      }
    },
    "colab": {
      "provenance": []
    }
  },
  "nbformat": 4,
  "nbformat_minor": 0
}